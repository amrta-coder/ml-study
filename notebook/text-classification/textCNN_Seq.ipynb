{
 "cells": [
  {
   "cell_type": "code",
   "execution_count": 1,
   "metadata": {},
   "outputs": [
    {
     "ename": "ModuleNotFoundError",
     "evalue": "No module named 'hbconfig'",
     "output_type": "error",
     "traceback": [
      "\u001b[0;31m---------------------------------------------------------------------------\u001b[0m",
      "\u001b[0;31mModuleNotFoundError\u001b[0m                       Traceback (most recent call last)",
      "\u001b[0;32m<ipython-input-1-0a1815ca1d4e>\u001b[0m in \u001b[0;36m<module>\u001b[0;34m\u001b[0m\n\u001b[0;32m----> 1\u001b[0;31m \u001b[0;32mfrom\u001b[0m \u001b[0mhbconfig\u001b[0m \u001b[0;32mimport\u001b[0m \u001b[0mConfig\u001b[0m\u001b[0;34m\u001b[0m\u001b[0;34m\u001b[0m\u001b[0m\n\u001b[0m\u001b[1;32m      2\u001b[0m \u001b[0;34m\u001b[0m\u001b[0m\n\u001b[1;32m      3\u001b[0m \u001b[0;32mfrom\u001b[0m \u001b[0mmodel\u001b[0m \u001b[0;32mimport\u001b[0m \u001b[0mTextCnnRand\u001b[0m\u001b[0;34m\u001b[0m\u001b[0;34m\u001b[0m\u001b[0m\n\u001b[1;32m      4\u001b[0m \u001b[0;32mfrom\u001b[0m \u001b[0mdata_loader_tf\u001b[0m \u001b[0;32mimport\u001b[0m \u001b[0mload_into_dataset\u001b[0m\u001b[0;34m,\u001b[0m \u001b[0mbuild_vocabulary\u001b[0m\u001b[0;34m,\u001b[0m \u001b[0mencode_labeled_data\u001b[0m\u001b[0;34m,\u001b[0m \u001b[0msplit_into_train_test_batches\u001b[0m\u001b[0;34m\u001b[0m\u001b[0;34m\u001b[0m\u001b[0m\n\u001b[1;32m      5\u001b[0m \u001b[0;34m\u001b[0m\u001b[0m\n",
      "\u001b[0;31mModuleNotFoundError\u001b[0m: No module named 'hbconfig'"
     ]
    }
   ],
   "source": [
    "from hbconfig import Config\n",
    "\n",
    "from model import TextCnnRand\n",
    "from data_loader_tf import load_into_dataset, build_vocabulary, encode_labeled_data, split_into_train_test_batches\n",
    "\n",
    "config = 'rt-polarity'\n",
    "Config(config)\n",
    "\n",
    "# Preparing data\n",
    "FILE_NAMES = ['rt-polarity-pos.txt', 'rt-polarity-neg.txt']\n",
    "\n",
    "all_labeled_data = load_into_dataset(FILE_NAMES)\n",
    "vocabulary_set = build_vocabulary(all_labeled_data)\n",
    "all_encoded_data = encode_labeled_data(all_labeled_data, vocabulary_set)\n",
    "train_data, val_data = split_into_train_test_batches(all_encoded_data)"
   ]
  },
  {
   "cell_type": "code",
   "execution_count": 2,
   "metadata": {},
   "outputs": [
    {
     "name": "stdout",
     "output_type": "stream",
     "text": [
      "Model: \"sequential\"\n",
      "_________________________________________________________________\n",
      "Layer (type)                 Output Shape              Param #   \n",
      "=================================================================\n",
      "embedding_1 (Embedding)      (None, None, 16)          293920    \n",
      "_________________________________________________________________\n",
      "global_average_pooling1d_1 ( (None, 16)                0         \n",
      "_________________________________________________________________\n",
      "dense_1 (Dense)              (None, 1)                 17        \n",
      "=================================================================\n",
      "Total params: 293,937\n",
      "Trainable params: 293,937\n",
      "Non-trainable params: 0\n",
      "_________________________________________________________________\n"
     ]
    }
   ],
   "source": [
    "from __future__ import absolute_import, division, print_function, unicode_literals\n",
    "import tensorflow as tf\n",
    "\n",
    "# Create an instance of the model\n",
    "vocabulary_size = len(vocabulary_set) + 1\n",
    "model = TextCnnRand(vocabulary_size)\n",
    "\n",
    "model = tf.keras.Sequential()\n",
    "model.add(tf.keras.layers.Embedding(vocabulary_size, 16))\n",
    "model.add(tf.keras.layers.GlobalAveragePooling1D())\n",
    "model.add(tf.keras.layers.Dense(1, activation='sigmoid'))\n",
    "model.summary()"
   ]
  },
  {
   "cell_type": "code",
   "execution_count": 3,
   "metadata": {},
   "outputs": [],
   "source": [
    "model.compile(optimizer='adam',\n",
    "              loss='binary_crossentropy',\n",
    "              metrics=['accuracy'])"
   ]
  },
  {
   "cell_type": "code",
   "execution_count": 4,
   "metadata": {},
   "outputs": [],
   "source": [
    "import datetime\n",
    "log_dir=\"logs/fit/\" + datetime.datetime.now().strftime(\"%Y%m%d-%H%M%S\")\n",
    "tensorboard_callback = tf.keras.callbacks.TensorBoard(log_dir=log_dir, histogram_freq=1)"
   ]
  },
  {
   "cell_type": "code",
   "execution_count": 5,
   "metadata": {},
   "outputs": [
    {
     "name": "stdout",
     "output_type": "stream",
     "text": [
      "Epoch 1/50\n",
      "151/151 [==============================] - 3s 21ms/step - loss: 0.6906 - accuracy: 0.6129 - val_loss: 0.0000e+00 - val_accuracy: 0.0000e+00\n",
      "Epoch 2/50\n",
      "151/151 [==============================] - 3s 17ms/step - loss: 0.6783 - accuracy: 0.7287 - val_loss: 0.6726 - val_accuracy: 0.6920\n",
      "Epoch 3/50\n",
      "151/151 [==============================] - 2s 16ms/step - loss: 0.6533 - accuracy: 0.7596 - val_loss: 0.6500 - val_accuracy: 0.6980\n",
      "Epoch 4/50\n",
      "151/151 [==============================] - 3s 17ms/step - loss: 0.6180 - accuracy: 0.7788 - val_loss: 0.6248 - val_accuracy: 0.7050\n",
      "Epoch 5/50\n",
      "151/151 [==============================] - 2s 16ms/step - loss: 0.5789 - accuracy: 0.7983 - val_loss: 0.5991 - val_accuracy: 0.7200\n",
      "Epoch 6/50\n",
      "151/151 [==============================] - 2s 16ms/step - loss: 0.5397 - accuracy: 0.8124 - val_loss: 0.5758 - val_accuracy: 0.7430\n",
      "Epoch 7/50\n",
      "151/151 [==============================] - 3s 17ms/step - loss: 0.5036 - accuracy: 0.8310 - val_loss: 0.5558 - val_accuracy: 0.7410\n",
      "Epoch 8/50\n",
      "151/151 [==============================] - 3s 20ms/step - loss: 0.4685 - accuracy: 0.8457 - val_loss: 0.5377 - val_accuracy: 0.7550\n",
      "Epoch 9/50\n",
      "151/151 [==============================] - 3s 17ms/step - loss: 0.4354 - accuracy: 0.8647 - val_loss: 0.5225 - val_accuracy: 0.7630\n",
      "Epoch 10/50\n",
      "151/151 [==============================] - 2s 16ms/step - loss: 0.4085 - accuracy: 0.8767 - val_loss: 0.5087 - val_accuracy: 0.7670\n",
      "Epoch 11/50\n",
      "151/151 [==============================] - 3s 17ms/step - loss: 0.3805 - accuracy: 0.8874 - val_loss: 0.4999 - val_accuracy: 0.7680\n",
      "Epoch 12/50\n",
      "151/151 [==============================] - 3s 17ms/step - loss: 0.3576 - accuracy: 0.8963 - val_loss: 0.4896 - val_accuracy: 0.7710\n",
      "Epoch 13/50\n",
      "151/151 [==============================] - 3s 17ms/step - loss: 0.3369 - accuracy: 0.9052 - val_loss: 0.4824 - val_accuracy: 0.7710\n",
      "Epoch 14/50\n",
      "151/151 [==============================] - 2s 16ms/step - loss: 0.3158 - accuracy: 0.9137 - val_loss: 0.4748 - val_accuracy: 0.7800\n",
      "Epoch 15/50\n",
      "151/151 [==============================] - 2s 16ms/step - loss: 0.2977 - accuracy: 0.9192 - val_loss: 0.4696 - val_accuracy: 0.7790\n",
      "Epoch 16/50\n",
      "151/151 [==============================] - 3s 17ms/step - loss: 0.2814 - accuracy: 0.9252 - val_loss: 0.4670 - val_accuracy: 0.7800\n",
      "Epoch 17/50\n",
      "151/151 [==============================] - 3s 17ms/step - loss: 0.2653 - accuracy: 0.9301 - val_loss: 0.4629 - val_accuracy: 0.7840\n",
      "Epoch 18/50\n",
      "151/151 [==============================] - 3s 18ms/step - loss: 0.2499 - accuracy: 0.9340 - val_loss: 0.4608 - val_accuracy: 0.7850\n",
      "Epoch 19/50\n",
      "151/151 [==============================] - 3s 17ms/step - loss: 0.2355 - accuracy: 0.9387 - val_loss: 0.4598 - val_accuracy: 0.7850\n",
      "Epoch 20/50\n",
      "151/151 [==============================] - 2s 16ms/step - loss: 0.2244 - accuracy: 0.9414 - val_loss: 0.4604 - val_accuracy: 0.7810\n",
      "Epoch 21/50\n",
      "151/151 [==============================] - 3s 21ms/step - loss: 0.2117 - accuracy: 0.9473 - val_loss: 0.4589 - val_accuracy: 0.7780\n",
      "Epoch 22/50\n",
      "151/151 [==============================] - 3s 18ms/step - loss: 0.2009 - accuracy: 0.9494 - val_loss: 0.4597 - val_accuracy: 0.7780\n",
      "Epoch 23/50\n",
      "151/151 [==============================] - 2s 16ms/step - loss: 0.1908 - accuracy: 0.9530 - val_loss: 0.4639 - val_accuracy: 0.7780\n",
      "Epoch 24/50\n",
      "151/151 [==============================] - 3s 17ms/step - loss: 0.1814 - accuracy: 0.9568 - val_loss: 0.4622 - val_accuracy: 0.7760\n",
      "Epoch 25/50\n",
      "151/151 [==============================] - 3s 17ms/step - loss: 0.1721 - accuracy: 0.9614 - val_loss: 0.4662 - val_accuracy: 0.7760\n",
      "Epoch 26/50\n",
      "151/151 [==============================] - 2s 16ms/step - loss: 0.1620 - accuracy: 0.9633 - val_loss: 0.4670 - val_accuracy: 0.7750\n",
      "Epoch 27/50\n",
      "151/151 [==============================] - 3s 17ms/step - loss: 0.1546 - accuracy: 0.9658 - val_loss: 0.4696 - val_accuracy: 0.7780\n",
      "Epoch 28/50\n",
      "151/151 [==============================] - 3s 17ms/step - loss: 0.1475 - accuracy: 0.9682 - val_loss: 0.4733 - val_accuracy: 0.7760\n",
      "Epoch 29/50\n",
      "151/151 [==============================] - 2s 16ms/step - loss: 0.1404 - accuracy: 0.9707 - val_loss: 0.4785 - val_accuracy: 0.7740\n",
      "Epoch 30/50\n",
      "151/151 [==============================] - 2s 15ms/step - loss: 0.1328 - accuracy: 0.9716 - val_loss: 0.4812 - val_accuracy: 0.7750\n",
      "Epoch 31/50\n",
      "151/151 [==============================] - 3s 17ms/step - loss: 0.1272 - accuracy: 0.9736 - val_loss: 0.4855 - val_accuracy: 0.7760\n",
      "Epoch 32/50\n",
      "151/151 [==============================] - 3s 17ms/step - loss: 0.1219 - accuracy: 0.9762 - val_loss: 0.4915 - val_accuracy: 0.7750\n",
      "Epoch 33/50\n",
      "151/151 [==============================] - 3s 17ms/step - loss: 0.1144 - accuracy: 0.9769 - val_loss: 0.4951 - val_accuracy: 0.7780\n",
      "Epoch 34/50\n",
      "151/151 [==============================] - 2s 16ms/step - loss: 0.1100 - accuracy: 0.9780 - val_loss: 0.4997 - val_accuracy: 0.7740\n",
      "Epoch 35/50\n",
      "151/151 [==============================] - 3s 17ms/step - loss: 0.1023 - accuracy: 0.9798 - val_loss: 0.5066 - val_accuracy: 0.7790\n",
      "Epoch 36/50\n",
      "151/151 [==============================] - 2s 16ms/step - loss: 0.0991 - accuracy: 0.9804 - val_loss: 0.5118 - val_accuracy: 0.7750\n",
      "Epoch 37/50\n",
      "151/151 [==============================] - 2s 16ms/step - loss: 0.0946 - accuracy: 0.9825 - val_loss: 0.5176 - val_accuracy: 0.7740\n",
      "Epoch 38/50\n",
      "151/151 [==============================] - 3s 17ms/step - loss: 0.0898 - accuracy: 0.9834 - val_loss: 0.5279 - val_accuracy: 0.7700\n",
      "Epoch 39/50\n",
      "151/151 [==============================] - 3s 17ms/step - loss: 0.0854 - accuracy: 0.9855 - val_loss: 0.5309 - val_accuracy: 0.7740\n",
      "Epoch 40/50\n",
      "151/151 [==============================] - 3s 17ms/step - loss: 0.0818 - accuracy: 0.9851 - val_loss: 0.5380 - val_accuracy: 0.7700\n",
      "Epoch 41/50\n",
      "151/151 [==============================] - 3s 17ms/step - loss: 0.0777 - accuracy: 0.9860 - val_loss: 0.5504 - val_accuracy: 0.7720\n",
      "Epoch 42/50\n",
      "151/151 [==============================] - 2s 16ms/step - loss: 0.0742 - accuracy: 0.9874 - val_loss: 0.5520 - val_accuracy: 0.7670\n",
      "Epoch 43/50\n",
      "151/151 [==============================] - 3s 17ms/step - loss: 0.0719 - accuracy: 0.9878 - val_loss: 0.5592 - val_accuracy: 0.7720\n",
      "Epoch 44/50\n",
      "151/151 [==============================] - 3s 17ms/step - loss: 0.0683 - accuracy: 0.9891 - val_loss: 0.5669 - val_accuracy: 0.7710\n",
      "Epoch 45/50\n",
      "151/151 [==============================] - 3s 17ms/step - loss: 0.0639 - accuracy: 0.9891 - val_loss: 0.5756 - val_accuracy: 0.7690\n",
      "Epoch 46/50\n",
      "151/151 [==============================] - 2s 16ms/step - loss: 0.0628 - accuracy: 0.9897 - val_loss: 0.5832 - val_accuracy: 0.7680\n",
      "Epoch 47/50\n",
      "151/151 [==============================] - 2s 16ms/step - loss: 0.0590 - accuracy: 0.9906 - val_loss: 0.5915 - val_accuracy: 0.7700\n",
      "Epoch 48/50\n",
      "151/151 [==============================] - 2s 16ms/step - loss: 0.0551 - accuracy: 0.9910 - val_loss: 0.6010 - val_accuracy: 0.7710\n",
      "Epoch 49/50\n",
      "151/151 [==============================] - 3s 17ms/step - loss: 0.0535 - accuracy: 0.9914 - val_loss: 0.6090 - val_accuracy: 0.7700\n",
      "Epoch 50/50\n",
      "151/151 [==============================] - 3s 17ms/step - loss: 0.0510 - accuracy: 0.9921 - val_loss: 0.6190 - val_accuracy: 0.7650\n"
     ]
    }
   ],
   "source": [
    "history = model.fit(train_data,\n",
    "                    epochs=50,\n",
    "                    validation_data=val_data,\n",
    "                    callbacks=[tensorboard_callback])"
   ]
  },
  {
   "cell_type": "code",
   "execution_count": null,
   "metadata": {},
   "outputs": [],
   "source": []
  },
  {
   "cell_type": "code",
   "execution_count": null,
   "metadata": {},
   "outputs": [],
   "source": []
  }
 ],
 "metadata": {
  "kernelspec": {
   "display_name": "Python 3",
   "language": "python",
   "name": "python3"
  },
  "language_info": {
   "codemirror_mode": {
    "name": "ipython",
    "version": 3
   },
   "file_extension": ".py",
   "mimetype": "text/x-python",
   "name": "python",
   "nbconvert_exporter": "python",
   "pygments_lexer": "ipython3",
   "version": "3.7.4"
  }
 },
 "nbformat": 4,
 "nbformat_minor": 4
}
