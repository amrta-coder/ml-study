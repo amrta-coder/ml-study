{
 "cells": [
  {
   "cell_type": "markdown",
   "metadata": {},
   "source": [
    "### check GPU"
   ]
  },
  {
   "cell_type": "code",
   "execution_count": 1,
   "metadata": {},
   "outputs": [
    {
     "name": "stdout",
     "output_type": "stream",
     "text": [
      "Is there a GPU available: \n",
      "[PhysicalDevice(name='/physical_device:GPU:0', device_type='GPU')]\n"
     ]
    }
   ],
   "source": [
    "import tensorflow as tf\n",
    "\n",
    "print(\"Is there a GPU available: \"),\n",
    "print(tf.config.experimental.list_physical_devices(\"GPU\"))"
   ]
  },
  {
   "cell_type": "markdown",
   "metadata": {},
   "source": [
    "### Load text into datasets"
   ]
  },
  {
   "cell_type": "code",
   "execution_count": 2,
   "metadata": {},
   "outputs": [
    {
     "name": "stdout",
     "output_type": "stream",
     "text": [
      "./data/rt-polaritydata/rt-polarity-pos.txt\n",
      "./data/rt-polaritydata/rt-polarity-neg.txt\n"
     ]
    },
    {
     "data": {
      "text/plain": [
       "[<MapDataset shapes: ((), ()), types: (tf.string, tf.int64)>,\n",
       " <MapDataset shapes: ((), ()), types: (tf.string, tf.int64)>]"
      ]
     },
     "execution_count": 2,
     "metadata": {},
     "output_type": "execute_result"
    }
   ],
   "source": [
    "from __future__ import absolute_import, division, print_function, unicode_literals\n",
    "\n",
    "import tensorflow as tf\n",
    "\n",
    "import tensorflow_datasets as tfds\n",
    "import os\n",
    "\n",
    "base_path = './data'\n",
    "raw_data_path = 'rt-polaritydata'\n",
    "\n",
    "parent_dir = os.path.join(base_path, raw_data_path)\n",
    "FILE_NAMES = ['rt-polarity-pos.txt', 'rt-polarity-neg.txt']\n",
    "\n",
    "def labeler(example, index):\n",
    "  return example, tf.cast(index, tf.int64)\n",
    "\n",
    "labeled_data_sets = []\n",
    "\n",
    "for i, file_name in enumerate(FILE_NAMES):\n",
    "    text_dir = os.path.join(parent_dir, file_name)\n",
    "    print(text_dir)\n",
    "    \n",
    "    lines_dataset = tf.data.TextLineDataset(text_dir)\n",
    "    labeled_dataset = lines_dataset.map(lambda ex: labeler(ex, i))\n",
    "    labeled_data_sets.append(labeled_dataset)\n",
    "\n",
    "labeled_data_sets"
   ]
  },
  {
   "cell_type": "code",
   "execution_count": 3,
   "metadata": {},
   "outputs": [
    {
     "name": "stdout",
     "output_type": "stream",
     "text": [
      "(<tf.Tensor: id=53, shape=(), dtype=string, numpy=b\"there's not a single jump-in-your-seat moment and believe it or not , jason actually takes a backseat in his own film to special effects . \">, <tf.Tensor: id=54, shape=(), dtype=int64, numpy=1>)\n",
      "(<tf.Tensor: id=55, shape=(), dtype=string, numpy=b\"kirshner and monroe seem to be in a contest to see who can out-bad-act the other . ( kirshner wins , but it's close . ) \">, <tf.Tensor: id=56, shape=(), dtype=int64, numpy=1>)\n",
      "(<tf.Tensor: id=57, shape=(), dtype=string, numpy=b'by no means a slam-dunk and sure to ultimately disappoint the action fans who will be moved to the edge of their seats by the dynamic first act , it still comes off as a touching , transcendent love story . '>, <tf.Tensor: id=58, shape=(), dtype=int64, numpy=0>)\n",
      "(<tf.Tensor: id=59, shape=(), dtype=string, numpy=b\"instead of accurately accounting a terrible true story , the film's more determined to become the next texas chainsaw massacre . but what about the countless other people who'd merely like to watch a solid tale about a universally interesting soul ? \">, <tf.Tensor: id=60, shape=(), dtype=int64, numpy=1>)\n",
      "(<tf.Tensor: id=61, shape=(), dtype=string, numpy=b'tries to work in the same vein as the brilliance of animal house but instead comes closer to the failure of the third revenge of the nerds sequel . '>, <tf.Tensor: id=62, shape=(), dtype=int64, numpy=1>)\n"
     ]
    }
   ],
   "source": [
    "BUFFER_SIZE = 50000\n",
    "BATCH_SIZE = 64\n",
    "TAKE_SIZE = 5000\n",
    "\n",
    "all_labeled_data = labeled_data_sets[0]\n",
    "for labeled_dataset in labeled_data_sets[1:]:\n",
    "  all_labeled_data = all_labeled_data.concatenate(labeled_dataset)\n",
    "\n",
    "all_labeled_data = all_labeled_data.shuffle(\n",
    "    BUFFER_SIZE, reshuffle_each_iteration=False)\n",
    "\n",
    "for ex in all_labeled_data.take(5):\n",
    "  print(ex)"
   ]
  },
  {
   "cell_type": "markdown",
   "metadata": {},
   "source": [
    "### Build vocabulary"
   ]
  },
  {
   "cell_type": "code",
   "execution_count": 4,
   "metadata": {},
   "outputs": [
    {
     "data": {
      "text/plain": [
       "18369"
      ]
     },
     "execution_count": 4,
     "metadata": {},
     "output_type": "execute_result"
    }
   ],
   "source": [
    "import tensorflow_datasets as tfds\n",
    "\n",
    "tokenizer = tfds.features.text.Tokenizer()\n",
    "\n",
    "vocabulary_set = set()\n",
    "for text_tensor, _ in all_labeled_data:\n",
    "  some_tokens = tokenizer.tokenize(text_tensor.numpy())\n",
    "  vocabulary_set.update(some_tokens)\n",
    "\n",
    "vocab_size = len(vocabulary_set)\n",
    "vocab_size"
   ]
  },
  {
   "cell_type": "markdown",
   "metadata": {},
   "source": [
    "### Encode examples"
   ]
  },
  {
   "cell_type": "code",
   "execution_count": 5,
   "metadata": {},
   "outputs": [],
   "source": [
    "encoder = tfds.features.text.TokenTextEncoder(vocabulary_set)"
   ]
  },
  {
   "cell_type": "code",
   "execution_count": 6,
   "metadata": {},
   "outputs": [
    {
     "name": "stdout",
     "output_type": "stream",
     "text": [
      "b\"there's not a single jump-in-your-seat moment and believe it or not , jason actually takes a backseat in his own film to special effects . \"\n"
     ]
    }
   ],
   "source": [
    "example_text = next(iter(all_labeled_data))[0].numpy()\n",
    "print(example_text)"
   ]
  },
  {
   "cell_type": "code",
   "execution_count": 7,
   "metadata": {},
   "outputs": [
    {
     "name": "stdout",
     "output_type": "stream",
     "text": [
      "[2803, 12906, 11165, 3131, 15047, 16760, 878, 16337, 17814, 4123, 2094, 8226, 8473, 10792, 11165, 14325, 7672, 15458, 3131, 2434, 878, 14483, 2150, 11494, 1320, 18140, 15985]\n"
     ]
    }
   ],
   "source": [
    "encoded_example = encoder.encode(example_text)\n",
    "print(encoded_example)"
   ]
  },
  {
   "cell_type": "code",
   "execution_count": 8,
   "metadata": {},
   "outputs": [
    {
     "name": "stdout",
     "output_type": "stream",
     "text": [
      "<ShuffleDataset shapes: ((), ()), types: (tf.string, tf.int64)>\n"
     ]
    }
   ],
   "source": [
    "print(all_labeled_data)"
   ]
  },
  {
   "cell_type": "code",
   "execution_count": 9,
   "metadata": {},
   "outputs": [],
   "source": [
    "def encode(text_tensor, label):\n",
    "  encoded_text = encoder.encode(text_tensor.numpy())\n",
    "  return encoded_text, label\n",
    "\n",
    "def encode_map_fn(text, label):\n",
    "  return tf.py_function(encode, inp=[text, label], Tout=(tf.int64, tf.int64))\n",
    "\n",
    "all_encoded_data = all_labeled_data.map(encode_map_fn)"
   ]
  },
  {
   "cell_type": "markdown",
   "metadata": {},
   "source": [
    "### Split the dataset into test and train batches"
   ]
  },
  {
   "cell_type": "code",
   "execution_count": 10,
   "metadata": {},
   "outputs": [
    {
     "data": {
      "text/plain": [
       "<PaddedBatchDataset shapes: ((None, None), (None,)), types: (tf.int64, tf.int64)>"
      ]
     },
     "execution_count": 10,
     "metadata": {},
     "output_type": "execute_result"
    }
   ],
   "source": [
    "train_data = all_encoded_data.skip(TAKE_SIZE).shuffle(BUFFER_SIZE)\n",
    "train_data = train_data.padded_batch(BATCH_SIZE, padded_shapes=([-1],[]))\n",
    "\n",
    "test_data = all_encoded_data.take(TAKE_SIZE)\n",
    "test_data = test_data.padded_batch(BATCH_SIZE, padded_shapes=([-1],[]))\n",
    "\n",
    "train_data"
   ]
  },
  {
   "cell_type": "code",
   "execution_count": 11,
   "metadata": {},
   "outputs": [
    {
     "data": {
      "text/plain": [
       "(<tf.Tensor: id=21634, shape=(41,), dtype=int64, numpy=\n",
       " array([ 2803, 12906, 11165,  3131, 15047, 16760,   878, 16337, 17814,\n",
       "         4123,  2094,  8226,  8473, 10792, 11165, 14325,  7672, 15458,\n",
       "         3131,  2434,   878, 14483,  2150, 11494,  1320, 18140, 15985,\n",
       "            0,     0,     0,     0,     0,     0,     0,     0,     0,\n",
       "            0,     0,     0,     0,     0])>,\n",
       " <tf.Tensor: id=21638, shape=(), dtype=int64, numpy=1>)"
      ]
     },
     "execution_count": 11,
     "metadata": {},
     "output_type": "execute_result"
    }
   ],
   "source": [
    "sample_text, sample_labels = next(iter(test_data))\n",
    "\n",
    "sample_text[0], sample_labels[0]"
   ]
  },
  {
   "cell_type": "code",
   "execution_count": 12,
   "metadata": {},
   "outputs": [],
   "source": [
    "vocab_size += 1"
   ]
  },
  {
   "cell_type": "markdown",
   "metadata": {},
   "source": [
    "### Build the model"
   ]
  },
  {
   "cell_type": "code",
   "execution_count": 13,
   "metadata": {},
   "outputs": [],
   "source": [
    "model = tf.keras.Sequential()"
   ]
  },
  {
   "cell_type": "code",
   "execution_count": 14,
   "metadata": {},
   "outputs": [],
   "source": [
    "model.add(tf.keras.layers.Embedding(encoder.vocab_size, 16))"
   ]
  },
  {
   "cell_type": "code",
   "execution_count": 15,
   "metadata": {},
   "outputs": [],
   "source": [
    "model.add(tf.keras.layers.GlobalAveragePooling1D())"
   ]
  },
  {
   "cell_type": "code",
   "execution_count": 16,
   "metadata": {},
   "outputs": [],
   "source": [
    "model.add(tf.keras.layers.Dense(1, activation='sigmoid'))"
   ]
  },
  {
   "cell_type": "code",
   "execution_count": 17,
   "metadata": {},
   "outputs": [
    {
     "name": "stdout",
     "output_type": "stream",
     "text": [
      "Model: \"sequential\"\n",
      "_________________________________________________________________\n",
      "Layer (type)                 Output Shape              Param #   \n",
      "=================================================================\n",
      "embedding (Embedding)        (None, None, 16)          293936    \n",
      "_________________________________________________________________\n",
      "global_average_pooling1d (Gl (None, 16)                0         \n",
      "_________________________________________________________________\n",
      "dense (Dense)                (None, 1)                 17        \n",
      "=================================================================\n",
      "Total params: 293,953\n",
      "Trainable params: 293,953\n",
      "Non-trainable params: 0\n",
      "_________________________________________________________________\n"
     ]
    }
   ],
   "source": [
    "model.summary()"
   ]
  },
  {
   "cell_type": "code",
   "execution_count": 18,
   "metadata": {},
   "outputs": [],
   "source": [
    "model.compile(optimizer='adam',\n",
    "              loss='binary_crossentropy',\n",
    "              metrics=['accuracy'])"
   ]
  },
  {
   "cell_type": "code",
   "execution_count": 19,
   "metadata": {},
   "outputs": [],
   "source": [
    "import datetime\n",
    "log_dir=\"logs/fit/\" + datetime.datetime.now().strftime(\"%Y%m%d-%H%M%S\")\n",
    "tensorboard_callback = tf.keras.callbacks.TensorBoard(log_dir=log_dir, histogram_freq=1)"
   ]
  },
  {
   "cell_type": "markdown",
   "metadata": {},
   "source": [
    "### Train the model"
   ]
  },
  {
   "cell_type": "code",
   "execution_count": 20,
   "metadata": {},
   "outputs": [
    {
     "name": "stdout",
     "output_type": "stream",
     "text": [
      "Epoch 1/100\n",
      "      1/Unknown - 3s 3s/step - loss: 0.6930 - accuracy: 0.5156WARNING:tensorflow:Method (on_train_batch_end) is slow compared to the batch update (0.284215). Check your callbacks.\n",
      "89/89 [==============================] - 4s 41ms/step - loss: 0.6917 - accuracy: 0.5297 - val_loss: 0.0000e+00 - val_accuracy: 0.0000e+00\n",
      "Epoch 2/100\n",
      "89/89 [==============================] - 2s 27ms/step - loss: 0.6846 - accuracy: 0.7428 - val_loss: 0.6844 - val_accuracy: 0.6547\n",
      "Epoch 3/100\n",
      "89/89 [==============================] - 2s 27ms/step - loss: 0.6724 - accuracy: 0.7566 - val_loss: 0.6759 - val_accuracy: 0.6714\n",
      "Epoch 4/100\n",
      "89/89 [==============================] - 2s 28ms/step - loss: 0.6538 - accuracy: 0.7833 - val_loss: 0.6644 - val_accuracy: 0.6786\n",
      "Epoch 5/100\n",
      "89/89 [==============================] - 2s 27ms/step - loss: 0.6309 - accuracy: 0.7858 - val_loss: 0.6518 - val_accuracy: 0.6880\n",
      "Epoch 6/100\n",
      "89/89 [==============================] - 2s 27ms/step - loss: 0.6047 - accuracy: 0.8038 - val_loss: 0.6377 - val_accuracy: 0.6880\n",
      "Epoch 7/100\n",
      "89/89 [==============================] - 2s 28ms/step - loss: 0.5770 - accuracy: 0.8204 - val_loss: 0.6240 - val_accuracy: 0.7000\n",
      "Epoch 8/100\n",
      "89/89 [==============================] - 2s 26ms/step - loss: 0.5487 - accuracy: 0.8317 - val_loss: 0.6109 - val_accuracy: 0.7036\n",
      "Epoch 9/100\n",
      "89/89 [==============================] - 2s 26ms/step - loss: 0.5226 - accuracy: 0.8428 - val_loss: 0.5987 - val_accuracy: 0.7109\n",
      "Epoch 10/100\n",
      "89/89 [==============================] - 2s 27ms/step - loss: 0.4945 - accuracy: 0.8562 - val_loss: 0.5868 - val_accuracy: 0.7177\n",
      "Epoch 11/100\n",
      "89/89 [==============================] - 2s 26ms/step - loss: 0.4706 - accuracy: 0.8635 - val_loss: 0.5760 - val_accuracy: 0.7219\n",
      "Epoch 12/100\n",
      "89/89 [==============================] - 2s 27ms/step - loss: 0.4458 - accuracy: 0.8746 - val_loss: 0.5660 - val_accuracy: 0.7219\n",
      "Epoch 13/100\n",
      "89/89 [==============================] - 2s 27ms/step - loss: 0.4237 - accuracy: 0.8841 - val_loss: 0.5566 - val_accuracy: 0.7328\n",
      "Epoch 14/100\n",
      "89/89 [==============================] - 2s 27ms/step - loss: 0.4022 - accuracy: 0.8931 - val_loss: 0.5482 - val_accuracy: 0.7323\n",
      "Epoch 15/100\n",
      "89/89 [==============================] - 3s 32ms/step - loss: 0.3815 - accuracy: 0.9016 - val_loss: 0.5405 - val_accuracy: 0.7365\n",
      "Epoch 16/100\n",
      "89/89 [==============================] - 2s 26ms/step - loss: 0.3627 - accuracy: 0.9092 - val_loss: 0.5338 - val_accuracy: 0.7385\n",
      "Epoch 17/100\n",
      "89/89 [==============================] - 2s 26ms/step - loss: 0.3440 - accuracy: 0.9163 - val_loss: 0.5277 - val_accuracy: 0.7427\n",
      "Epoch 18/100\n",
      "89/89 [==============================] - 2s 27ms/step - loss: 0.3261 - accuracy: 0.9241 - val_loss: 0.5223 - val_accuracy: 0.7474\n",
      "Epoch 19/100\n",
      "89/89 [==============================] - 2s 27ms/step - loss: 0.3103 - accuracy: 0.9279 - val_loss: 0.5175 - val_accuracy: 0.7536\n",
      "Epoch 20/100\n",
      "89/89 [==============================] - 2s 26ms/step - loss: 0.2941 - accuracy: 0.9339 - val_loss: 0.5144 - val_accuracy: 0.7563\n",
      "Epoch 21/100\n",
      "89/89 [==============================] - 2s 27ms/step - loss: 0.2810 - accuracy: 0.9398 - val_loss: 0.5110 - val_accuracy: 0.7583\n",
      "Epoch 22/100\n",
      "89/89 [==============================] - 2s 26ms/step - loss: 0.2688 - accuracy: 0.9435 - val_loss: 0.5079 - val_accuracy: 0.7604\n",
      "Epoch 23/100\n",
      "89/89 [==============================] - 2s 27ms/step - loss: 0.2555 - accuracy: 0.9493 - val_loss: 0.5054 - val_accuracy: 0.7646\n",
      "Epoch 24/100\n",
      "89/89 [==============================] - 2s 26ms/step - loss: 0.2436 - accuracy: 0.9504 - val_loss: 0.5042 - val_accuracy: 0.7703\n",
      "Epoch 25/100\n",
      "89/89 [==============================] - 2s 27ms/step - loss: 0.2327 - accuracy: 0.9548 - val_loss: 0.5024 - val_accuracy: 0.7693\n",
      "Epoch 26/100\n",
      "89/89 [==============================] - 3s 29ms/step - loss: 0.2229 - accuracy: 0.9594 - val_loss: 0.5017 - val_accuracy: 0.7719\n",
      "Epoch 27/100\n",
      "89/89 [==============================] - 2s 27ms/step - loss: 0.2107 - accuracy: 0.9610 - val_loss: 0.5010 - val_accuracy: 0.7688\n",
      "Epoch 28/100\n",
      "89/89 [==============================] - 2s 26ms/step - loss: 0.2034 - accuracy: 0.9647 - val_loss: 0.5010 - val_accuracy: 0.7682\n",
      "Epoch 29/100\n",
      "89/89 [==============================] - 2s 27ms/step - loss: 0.1926 - accuracy: 0.9670 - val_loss: 0.5011 - val_accuracy: 0.7656\n",
      "Epoch 30/100\n",
      "89/89 [==============================] - 2s 26ms/step - loss: 0.1863 - accuracy: 0.9694 - val_loss: 0.5017 - val_accuracy: 0.7698\n",
      "Epoch 31/100\n",
      "89/89 [==============================] - 2s 26ms/step - loss: 0.1776 - accuracy: 0.9724 - val_loss: 0.5026 - val_accuracy: 0.7703\n",
      "Epoch 32/100\n",
      "89/89 [==============================] - 2s 26ms/step - loss: 0.1711 - accuracy: 0.9733 - val_loss: 0.5043 - val_accuracy: 0.7688\n",
      "Epoch 33/100\n",
      "89/89 [==============================] - 2s 27ms/step - loss: 0.1632 - accuracy: 0.9758 - val_loss: 0.5050 - val_accuracy: 0.7693\n",
      "Epoch 34/100\n",
      "89/89 [==============================] - 3s 29ms/step - loss: 0.1533 - accuracy: 0.9765 - val_loss: 0.5071 - val_accuracy: 0.7672\n",
      "Epoch 35/100\n",
      "89/89 [==============================] - 2s 26ms/step - loss: 0.1486 - accuracy: 0.9774 - val_loss: 0.5087 - val_accuracy: 0.7677\n",
      "Epoch 36/100\n",
      "89/89 [==============================] - 2s 26ms/step - loss: 0.1422 - accuracy: 0.9795 - val_loss: 0.5105 - val_accuracy: 0.7656\n",
      "Epoch 37/100\n",
      "89/89 [==============================] - 3s 29ms/step - loss: 0.1364 - accuracy: 0.9804 - val_loss: 0.5142 - val_accuracy: 0.7615\n",
      "Epoch 38/100\n",
      "89/89 [==============================] - 3s 28ms/step - loss: 0.1320 - accuracy: 0.9811 - val_loss: 0.5153 - val_accuracy: 0.7672\n",
      "Epoch 39/100\n",
      "89/89 [==============================] - 2s 26ms/step - loss: 0.1261 - accuracy: 0.9815 - val_loss: 0.5192 - val_accuracy: 0.7583\n",
      "Epoch 40/100\n",
      "89/89 [==============================] - 2s 26ms/step - loss: 0.1213 - accuracy: 0.9832 - val_loss: 0.5224 - val_accuracy: 0.7589\n",
      "Epoch 41/100\n",
      "89/89 [==============================] - 2s 28ms/step - loss: 0.1168 - accuracy: 0.9843 - val_loss: 0.5234 - val_accuracy: 0.7641\n",
      "Epoch 42/100\n",
      "89/89 [==============================] - 2s 26ms/step - loss: 0.1108 - accuracy: 0.9852 - val_loss: 0.5265 - val_accuracy: 0.7620\n",
      "Epoch 43/100\n",
      "89/89 [==============================] - 2s 27ms/step - loss: 0.1072 - accuracy: 0.9862 - val_loss: 0.5297 - val_accuracy: 0.7594\n",
      "Epoch 44/100\n",
      "89/89 [==============================] - 2s 27ms/step - loss: 0.1033 - accuracy: 0.9859 - val_loss: 0.5350 - val_accuracy: 0.7573\n",
      "Epoch 45/100\n",
      "89/89 [==============================] - 2s 27ms/step - loss: 0.0992 - accuracy: 0.9873 - val_loss: 0.5367 - val_accuracy: 0.7583\n",
      "Epoch 46/100\n",
      "89/89 [==============================] - 2s 27ms/step - loss: 0.0940 - accuracy: 0.9887 - val_loss: 0.5403 - val_accuracy: 0.7573\n",
      "Epoch 47/100\n",
      "89/89 [==============================] - 2s 28ms/step - loss: 0.0913 - accuracy: 0.9883 - val_loss: 0.5441 - val_accuracy: 0.7557\n",
      "Epoch 48/100\n",
      "89/89 [==============================] - 2s 27ms/step - loss: 0.0886 - accuracy: 0.9889 - val_loss: 0.5508 - val_accuracy: 0.7505\n",
      "Epoch 49/100\n",
      "89/89 [==============================] - 2s 27ms/step - loss: 0.0840 - accuracy: 0.9894 - val_loss: 0.5515 - val_accuracy: 0.7547\n",
      "Epoch 50/100\n",
      "89/89 [==============================] - 2s 27ms/step - loss: 0.0813 - accuracy: 0.9894 - val_loss: 0.5558 - val_accuracy: 0.7552\n",
      "Epoch 51/100\n",
      "89/89 [==============================] - 2s 26ms/step - loss: 0.0778 - accuracy: 0.9913 - val_loss: 0.5615 - val_accuracy: 0.7505\n",
      "Epoch 52/100\n",
      "89/89 [==============================] - 2s 27ms/step - loss: 0.0749 - accuracy: 0.9912 - val_loss: 0.5646 - val_accuracy: 0.7568\n",
      "Epoch 53/100\n",
      "89/89 [==============================] - 2s 26ms/step - loss: 0.0733 - accuracy: 0.9912 - val_loss: 0.5689 - val_accuracy: 0.7557\n",
      "Epoch 54/100\n",
      "89/89 [==============================] - 2s 27ms/step - loss: 0.0694 - accuracy: 0.9919 - val_loss: 0.5737 - val_accuracy: 0.7536\n",
      "Epoch 55/100\n",
      "89/89 [==============================] - 2s 27ms/step - loss: 0.0664 - accuracy: 0.9926 - val_loss: 0.5774 - val_accuracy: 0.7547\n",
      "Epoch 56/100\n",
      "89/89 [==============================] - 2s 27ms/step - loss: 0.0643 - accuracy: 0.9921 - val_loss: 0.5824 - val_accuracy: 0.7542\n",
      "Epoch 57/100\n",
      "89/89 [==============================] - 2s 27ms/step - loss: 0.0626 - accuracy: 0.9924 - val_loss: 0.5874 - val_accuracy: 0.7521\n",
      "Epoch 58/100\n",
      "89/89 [==============================] - 2s 25ms/step - loss: 0.0597 - accuracy: 0.9924 - val_loss: 0.5922 - val_accuracy: 0.7526\n",
      "Epoch 59/100\n",
      "89/89 [==============================] - 2s 26ms/step - loss: 0.0576 - accuracy: 0.9938 - val_loss: 0.5981 - val_accuracy: 0.7490\n",
      "Epoch 60/100\n",
      "89/89 [==============================] - 2s 26ms/step - loss: 0.0552 - accuracy: 0.9943 - val_loss: 0.6067 - val_accuracy: 0.7484\n",
      "Epoch 61/100\n",
      "89/89 [==============================] - 2s 27ms/step - loss: 0.0533 - accuracy: 0.9935 - val_loss: 0.6094 - val_accuracy: 0.7505\n",
      "Epoch 62/100\n",
      "89/89 [==============================] - 2s 26ms/step - loss: 0.0507 - accuracy: 0.9945 - val_loss: 0.6128 - val_accuracy: 0.7505\n",
      "Epoch 63/100\n",
      "89/89 [==============================] - 2s 26ms/step - loss: 0.0494 - accuracy: 0.9949 - val_loss: 0.6178 - val_accuracy: 0.7505\n",
      "Epoch 64/100\n",
      "89/89 [==============================] - 2s 27ms/step - loss: 0.0477 - accuracy: 0.9951 - val_loss: 0.6233 - val_accuracy: 0.7490\n",
      "Epoch 65/100\n",
      "89/89 [==============================] - 2s 27ms/step - loss: 0.0455 - accuracy: 0.9956 - val_loss: 0.6284 - val_accuracy: 0.7500\n",
      "Epoch 66/100\n",
      "89/89 [==============================] - 3s 28ms/step - loss: 0.0443 - accuracy: 0.9956 - val_loss: 0.6352 - val_accuracy: 0.7526\n",
      "Epoch 67/100\n",
      "89/89 [==============================] - 2s 28ms/step - loss: 0.0427 - accuracy: 0.9951 - val_loss: 0.6416 - val_accuracy: 0.7526\n",
      "Epoch 68/100\n",
      "89/89 [==============================] - 2s 28ms/step - loss: 0.0408 - accuracy: 0.9959 - val_loss: 0.6467 - val_accuracy: 0.7521\n",
      "Epoch 69/100\n",
      "89/89 [==============================] - 2s 26ms/step - loss: 0.0398 - accuracy: 0.9958 - val_loss: 0.6508 - val_accuracy: 0.7505\n",
      "Epoch 70/100\n",
      "89/89 [==============================] - 2s 27ms/step - loss: 0.0382 - accuracy: 0.9963 - val_loss: 0.6584 - val_accuracy: 0.7516\n",
      "Epoch 71/100\n",
      "89/89 [==============================] - 2s 27ms/step - loss: 0.0369 - accuracy: 0.9966 - val_loss: 0.6624 - val_accuracy: 0.7490\n",
      "Epoch 72/100\n",
      "89/89 [==============================] - 2s 27ms/step - loss: 0.0352 - accuracy: 0.9966 - val_loss: 0.6689 - val_accuracy: 0.7490\n",
      "Epoch 73/100\n",
      "89/89 [==============================] - 2s 26ms/step - loss: 0.0343 - accuracy: 0.9968 - val_loss: 0.6737 - val_accuracy: 0.7469\n",
      "Epoch 74/100\n",
      "89/89 [==============================] - 2s 27ms/step - loss: 0.0326 - accuracy: 0.9970 - val_loss: 0.6803 - val_accuracy: 0.7490\n",
      "Epoch 75/100\n",
      "89/89 [==============================] - 2s 28ms/step - loss: 0.0321 - accuracy: 0.9968 - val_loss: 0.6879 - val_accuracy: 0.7453\n",
      "Epoch 76/100\n",
      "89/89 [==============================] - 3s 29ms/step - loss: 0.0304 - accuracy: 0.9972 - val_loss: 0.6930 - val_accuracy: 0.7484\n",
      "Epoch 77/100\n",
      "89/89 [==============================] - 3s 28ms/step - loss: 0.0297 - accuracy: 0.9972 - val_loss: 0.7000 - val_accuracy: 0.7469\n",
      "Epoch 78/100\n",
      "89/89 [==============================] - 2s 28ms/step - loss: 0.0278 - accuracy: 0.9974 - val_loss: 0.7054 - val_accuracy: 0.7490\n",
      "Epoch 79/100\n",
      "89/89 [==============================] - 2s 27ms/step - loss: 0.0274 - accuracy: 0.9975 - val_loss: 0.7118 - val_accuracy: 0.7490\n",
      "Epoch 80/100\n",
      "89/89 [==============================] - 2s 25ms/step - loss: 0.0268 - accuracy: 0.9975 - val_loss: 0.7179 - val_accuracy: 0.7490\n",
      "Epoch 81/100\n",
      "89/89 [==============================] - 2s 27ms/step - loss: 0.0254 - accuracy: 0.9977 - val_loss: 0.7254 - val_accuracy: 0.7479\n",
      "Epoch 82/100\n",
      "89/89 [==============================] - 2s 28ms/step - loss: 0.0247 - accuracy: 0.9975 - val_loss: 0.7304 - val_accuracy: 0.7458\n",
      "Epoch 83/100\n",
      "89/89 [==============================] - 2s 28ms/step - loss: 0.0233 - accuracy: 0.9979 - val_loss: 0.7385 - val_accuracy: 0.7484\n",
      "Epoch 84/100\n",
      "89/89 [==============================] - 2s 28ms/step - loss: 0.0225 - accuracy: 0.9977 - val_loss: 0.7444 - val_accuracy: 0.7458\n",
      "Epoch 85/100\n",
      "89/89 [==============================] - 2s 26ms/step - loss: 0.0223 - accuracy: 0.9979 - val_loss: 0.7554 - val_accuracy: 0.7469\n",
      "Epoch 86/100\n",
      "89/89 [==============================] - 2s 28ms/step - loss: 0.0205 - accuracy: 0.9981 - val_loss: 0.7667 - val_accuracy: 0.7464\n",
      "Epoch 87/100\n",
      "89/89 [==============================] - 2s 26ms/step - loss: 0.0205 - accuracy: 0.9981 - val_loss: 0.7650 - val_accuracy: 0.7474\n",
      "Epoch 88/100\n",
      "89/89 [==============================] - 2s 26ms/step - loss: 0.0199 - accuracy: 0.9982 - val_loss: 0.7712 - val_accuracy: 0.7464\n",
      "Epoch 89/100\n",
      "89/89 [==============================] - 2s 28ms/step - loss: 0.0190 - accuracy: 0.9981 - val_loss: 0.7795 - val_accuracy: 0.7448\n",
      "Epoch 90/100\n",
      "89/89 [==============================] - 2s 27ms/step - loss: 0.0184 - accuracy: 0.9981 - val_loss: 0.7872 - val_accuracy: 0.7432\n",
      "Epoch 91/100\n",
      "89/89 [==============================] - 3s 29ms/step - loss: 0.0175 - accuracy: 0.9982 - val_loss: 0.7934 - val_accuracy: 0.7432\n",
      "Epoch 92/100\n",
      "89/89 [==============================] - 2s 26ms/step - loss: 0.0171 - accuracy: 0.9982 - val_loss: 0.8014 - val_accuracy: 0.7443\n",
      "Epoch 93/100\n",
      "89/89 [==============================] - 2s 27ms/step - loss: 0.0158 - accuracy: 0.9984 - val_loss: 0.8070 - val_accuracy: 0.7422\n",
      "Epoch 94/100\n",
      "89/89 [==============================] - 2s 26ms/step - loss: 0.0156 - accuracy: 0.9988 - val_loss: 0.8149 - val_accuracy: 0.7427\n",
      "Epoch 95/100\n",
      "89/89 [==============================] - 2s 27ms/step - loss: 0.0148 - accuracy: 0.9988 - val_loss: 0.8194 - val_accuracy: 0.7443\n",
      "Epoch 96/100\n",
      "89/89 [==============================] - 2s 27ms/step - loss: 0.0146 - accuracy: 0.9989 - val_loss: 0.8284 - val_accuracy: 0.7432\n",
      "Epoch 97/100\n",
      "89/89 [==============================] - 2s 27ms/step - loss: 0.0137 - accuracy: 0.9991 - val_loss: 0.8393 - val_accuracy: 0.7479\n",
      "Epoch 98/100\n",
      "89/89 [==============================] - 2s 26ms/step - loss: 0.0132 - accuracy: 0.9991 - val_loss: 0.8421 - val_accuracy: 0.7437\n",
      "Epoch 99/100\n",
      "89/89 [==============================] - 3s 28ms/step - loss: 0.0130 - accuracy: 0.9989 - val_loss: 0.8505 - val_accuracy: 0.7432\n",
      "Epoch 100/100\n",
      "89/89 [==============================] - 2s 27ms/step - loss: 0.0126 - accuracy: 0.9993 - val_loss: 0.8619 - val_accuracy: 0.7464\n"
     ]
    }
   ],
   "source": [
    "history = model.fit(train_data,\n",
    "                    epochs=100,\n",
    "                    validation_data=test_data,\n",
    "                    validation_steps=30,\n",
    "                    callbacks=[tensorboard_callback])"
   ]
  },
  {
   "cell_type": "markdown",
   "metadata": {},
   "source": [
    "#### Evaluate the model"
   ]
  },
  {
   "cell_type": "code",
   "execution_count": null,
   "metadata": {},
   "outputs": [],
   "source": [
    "loss, accuracy = model.evaluate(test_data)\n",
    "\n",
    "print(\"Loss: \", loss)\n",
    "print(\"Accuracy: \", accuracy)"
   ]
  },
  {
   "cell_type": "markdown",
   "metadata": {},
   "source": [
    "#### Create a graph of accuracy and loss over time"
   ]
  },
  {
   "cell_type": "code",
   "execution_count": 20,
   "metadata": {},
   "outputs": [
    {
     "data": {
      "text/plain": [
       "dict_keys(['loss', 'accuracy', 'val_loss', 'val_accuracy'])"
      ]
     },
     "execution_count": 20,
     "metadata": {},
     "output_type": "execute_result"
    }
   ],
   "source": [
    "history_dict = history.history\n",
    "history_dict.keys()"
   ]
  },
  {
   "cell_type": "code",
   "execution_count": 22,
   "metadata": {},
   "outputs": [
    {
     "data": {
      "text/plain": [
       "<Figure size 640x480 with 1 Axes>"
      ]
     },
     "metadata": {},
     "output_type": "display_data"
    }
   ],
   "source": [
    "import matplotlib.pyplot as plt\n",
    "\n",
    "acc = history_dict['accuracy']\n",
    "val_acc = history_dict['val_accuracy']\n",
    "loss = history_dict['loss']\n",
    "val_loss = history_dict['val_loss']\n",
    "\n",
    "epochs = range(1, len(acc) + 1)\n",
    "\n",
    "# \"bo\" is for \"blue dot\"\n",
    "plt.plot(epochs, loss, 'bo', label='Training loss')\n",
    "# b is for \"solid blue line\"\n",
    "plt.plot(epochs, val_loss, 'b', label='Validation loss')\n",
    "plt.title('Training and validation loss')\n",
    "plt.xlabel('Epochs')\n",
    "plt.ylabel('Loss')\n",
    "plt.legend()\n",
    "\n",
    "plt.show()"
   ]
  },
  {
   "cell_type": "code",
   "execution_count": 23,
   "metadata": {},
   "outputs": [
    {
     "data": {
      "image/png": "[encoded data removed]",
      "text/plain": [
       "<Figure size 432x288 with 1 Axes>"
      ]
     },
     "metadata": {
      "needs_background": "light"
     },
     "output_type": "display_data"
    }
   ],
   "source": [
    "plt.clf()   # clear figure\n",
    "\n",
    "plt.plot(epochs, acc, 'bo', label='Training acc')\n",
    "plt.plot(epochs, val_acc, 'b', label='Validation acc')\n",
    "plt.title('Training and validation accuracy')\n",
    "plt.xlabel('Epochs')\n",
    "plt.ylabel('Accuracy')\n",
    "plt.legend(loc='lower right')\n",
    "\n",
    "plt.show()"
   ]
  },
  {
   "cell_type": "code",
   "execution_count": 4,
   "metadata": {},
   "outputs": [],
   "source": [
    "from hbconfig import Config"
   ]
  },
  {
   "cell_type": "code",
   "execution_count": 5,
   "metadata": {},
   "outputs": [],
   "source": [
    "Config(\"rt-polarity\")"
   ]
  },
  {
   "cell_type": "code",
   "execution_count": 6,
   "metadata": {},
   "outputs": [
    {
     "data": {
      "text/plain": [
       "Read config file name: ./config/rt-polarity\n",
       "{\n",
       "    \"data\": {\n",
       "        \"type\": \"rt-polarity\",\n",
       "        \"base_path\": \"data/\",\n",
       "        \"raw_data_path\": \"rt-polaritydata/\",\n",
       "        \"processed_path\": \"rt-polarity_processed_data\",\n",
       "        \"testset_size\": 2000,\n",
       "        \"num_classes\": 2,\n",
       "        \"PAD_ID\": 0\n",
       "    },\n",
       "    \"model\": {\n",
       "        \"batch_size\": 64,\n",
       "        \"embed_type\": \"rand\",\n",
       "        \"pretrained_embed\": \"\",\n",
       "        \"embed_dim\": 300,\n",
       "        \"num_filters\": 256,\n",
       "        \"filter_sizes\": [\n",
       "            2,\n",
       "            3,\n",
       "            4,\n",
       "            5\n",
       "        ],\n",
       "        \"dropout\": 0.5\n",
       "    },\n",
       "    \"train\": {\n",
       "        \"learning_rate\": 1e-05,\n",
       "        \"train_steps\": 20000,\n",
       "        \"model_dir\": \"logs/rt-polarity\",\n",
       "        \"save_checkpoints_steps\": 100,\n",
       "        \"loss_hook_n_iter\": 100,\n",
       "        \"check_hook_n_iter\": 100,\n",
       "        \"min_eval_frequency\": 100,\n",
       "        \"print_verbose\": true,\n",
       "        \"debug\": false\n",
       "    },\n",
       "    \"slack\": {\n",
       "        \"webhook_url\": \"\"\n",
       "    }\n",
       "}"
      ]
     },
     "execution_count": 6,
     "metadata": {},
     "output_type": "execute_result"
    }
   ],
   "source": [
    "Config"
   ]
  },
  {
   "cell_type": "code",
   "execution_count": null,
   "metadata": {},
   "outputs": [],
   "source": []
  }
 ],
 "metadata": {
  "kernelspec": {
   "display_name": "Python 3",
   "language": "python",
   "name": "python3"
  },
  "language_info": {
   "codemirror_mode": {
    "name": "ipython",
    "version": 3
   },
   "file_extension": ".py",
   "mimetype": "text/x-python",
   "name": "python",
   "nbconvert_exporter": "python",
   "pygments_lexer": "ipython3",
   "version": "3.7.4"
  }
 },
 "nbformat": 4,
 "nbformat_minor": 4
}
