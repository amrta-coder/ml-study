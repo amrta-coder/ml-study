{
 "cells": [
  {
   "cell_type": "markdown",
   "metadata": {},
   "source": [
    "### $\\beta$ function\n",
    "\n",
    "$$\n",
    "B(\\theta\\mid\\alpha, \\beta)=\\int_0^1 \\theta^{\\alpha-1}(1-\\theta)^{\\beta-1}d\\theta\n",
    "$$\n",
    "\n",
    "### $\\Gamma$ function\n",
    "\n",
    "$$\n",
    "\\Gamma(\\theta)=\\int_0^\\infty t^{\\theta-1}e^{-t}dt\n",
    "$$\n",
    "\n",
    "### The relationship between $\\beta$ and  $\\Gamma$\n",
    "\n",
    "$$\n",
    "B(\\alpha, \\beta)=\\frac{\\Gamma(\\alpha)\\Gamma(\\beta)}{\\Gamma(\\alpha+\\beta)}\n",
    "$$\n"
   ]
  },
  {
   "cell_type": "markdown",
   "metadata": {},
   "source": [
    "### Bayesian Filtering"
   ]
  },
  {
   "cell_type": "markdown",
   "metadata": {},
   "source": []
  },
  {
   "cell_type": "markdown",
   "metadata": {},
   "source": [
    "### Belief function:\n",
    "\n",
    "$$\n",
    "Bel_t(\\theta)=p(\\theta\\mid z_1, z_2, \\cdot\\cdot\\cdot, z_t)\n",
    "$$\n"
   ]
  },
  {
   "cell_type": "markdown",
   "metadata": {},
   "source": []
  },
  {
   "cell_type": "markdown",
   "metadata": {},
   "source": [
    "### Beta distribution:\n",
    "$$\n",
    "Bel_t(\\theta)=Beta(\\alpha_t, \\beta_t, \\theta)\n",
    "$$"
   ]
  },
  {
   "cell_type": "markdown",
   "metadata": {},
   "source": []
  },
  {
   "cell_type": "markdown",
   "metadata": {},
   "source": [
    "### Update equstion:\n",
    "\n",
    "$$\n",
    "\\begin{cases}{}\n",
    "    {\\alpha_{t+1}=\\alpha_t + z_t}\\\\\n",
    "    {\\beta_{t+1}=\\beta_t + z_t}\n",
    "\\end{cases}\n",
    "$$"
   ]
  },
  {
   "cell_type": "markdown",
   "metadata": {},
   "source": [
    "### watchdog (bayesian filtering):\n",
    "$$\n",
    "\\begin{cases}{}\n",
    "    {\\alpha_{t+1}^{(i,j)}=\\mu\\cdot\\alpha_{t-1}^{(i,j)} + s_{t-1}}\\\\\n",
    "    {\\beta_{t+1}^{(i,j)}=\\mu\\cdot\\beta_{t-1}^{(i,j)} + s_{t-1}}\n",
    "\\end{cases}\n",
    "$$"
   ]
  },
  {
   "cell_type": "markdown",
   "metadata": {},
   "source": [
    "### legitimate probability:\n",
    "\n",
    "for time intarval $[t-1, t]$:\n",
    "$$\n",
    "P(\\theta_i(j)<\\gamma)=\\int_0^\\gamma Beta(\\alpha_i(j), \\beta_i(j))\n",
    "$$\n"
   ]
  },
  {
   "cell_type": "markdown",
   "metadata": {},
   "source": [
    "### reputation of node j by node i:\n",
    "$$ \n",
    "R_i(j)= \\begin{cases} \n",
    "        1, & \\mbox P(\\theta_i(j)) <\\gamma\\\\ \n",
    "        0, & \\mbox P(\\theta_i(j)) \\ge\\gamma\n",
    "        \\end{cases} \n",
    "$$"
   ]
  },
  {
   "cell_type": "markdown",
   "metadata": {},
   "source": []
  },
  {
   "cell_type": "markdown",
   "metadata": {},
   "source": [
    "### Merit of proposed method"
   ]
  },
  {
   "cell_type": "markdown",
   "metadata": {},
   "source": [
    "A. theoretical support to decide $\\alpha_0, \\beta_0$ (maximum entropy will be used)\n"
   ]
  },
  {
   "cell_type": "markdown",
   "metadata": {},
   "source": [
    "B. theoretical support to set the threshold $\\theta$ (Beyes risk with marginal cost)\n"
   ]
  },
  {
   "cell_type": "markdown",
   "metadata": {},
   "source": [
    "C. secure the link instead of only node (Bayesian network)"
   ]
  },
  {
   "cell_type": "markdown",
   "metadata": {},
   "source": [
    "### 1. Probability expectation:"
   ]
  },
  {
   "cell_type": "markdown",
   "metadata": {},
   "source": [
    "$$\n",
    "E(p)=\\frac{\\alpha_0}{\\alpha_0+\\beta_0}\n",
    "$$"
   ]
  },
  {
   "cell_type": "markdown",
   "metadata": {},
   "source": [
    "### 2. Maximum entropy:\n",
    "\n"
   ]
  },
  {
   "cell_type": "markdown",
   "metadata": {},
   "source": [
    "$$\n",
    "H(X)=-\\int P(\\theta)logP(\\theta)d\\theta\n",
    "$$\n",
    "$$\n",
    "    =-\\int \\frac{\\Gamma(\\alpha_0)\\Gamma(\\beta_0)}{\\Gamma(\\alpha_0 + \\beta_0)}\\theta^{\\alpha_0 -1}(1-\\theta)^{\\beta_0 -1}\\cdot\\log(\\frac{\\Gamma(\\alpha_0)\\Gamma(\\beta_0)}{\\Gamma(\\alpha_0+\\beta_0)}\\theta^{\\alpha_0 -1}(1-\\theta)^{\\beta_0 -1})d\\theta\n",
    "$$"
   ]
  },
  {
   "cell_type": "markdown",
   "metadata": {},
   "source": [
    "$$P_0(\\theta)=1$$"
   ]
  },
  {
   "cell_type": "markdown",
   "metadata": {},
   "source": [
    "### Bayes risk implemetation"
   ]
  },
  {
   "cell_type": "markdown",
   "metadata": {},
   "source": [
    "suppose:\n",
    "1. $\\delta=1$: raising attack alarm\n",
    "2. $\\delta=0$: no alarm\n",
    "3. $C_{bp}$: marginal cost of a BP decision\n",
    "4. $C_{mp}$: marginal cost of a MP decision\n",
    "5. $f_P(x)$: density function of P"
   ]
  },
  {
   "cell_type": "markdown",
   "metadata": {},
   "source": [
    "$$\n",
    "R(\\delta) = \\int_0^1(C_{bp}(1-x)\\delta+C_{mp}x(1-\\delta))f_P(x)dx\n",
    "$$\n",
    "$$\n",
    "=C_{bp}\\cdot E[P]+\\delta(C_{bp}-(C_{bp} + C_{mp})\\cdot E[P])\n",
    "$$"
   ]
  },
  {
   "cell_type": "markdown",
   "metadata": {},
   "source": [
    "to minimise $R(\\delta)$:"
   ]
  },
  {
   "cell_type": "markdown",
   "metadata": {},
   "source": [
    "$$\n",
    "\\delta(C_{bp}-(C_{bp} + C_{mp})\\cdot E[P])\n",
    "$$"
   ]
  },
  {
   "cell_type": "markdown",
   "metadata": {},
   "source": [
    "then:\n",
    "$$\n",
    "E[P]\\geq \\frac{C_{bp}}{C_{bp}+C_{mp}}\n",
    "$$\n"
   ]
  },
  {
   "cell_type": "markdown",
   "metadata": {},
   "source": [
    "optimal decision:\n",
    "$$\n",
    "R_(\\delta)= \\begin{cases} \n",
    "        C_{bp}\\cdot (1-E[P]), & \\mbox if E[P] \\geq \\gamma , \\\\\n",
    "        C_{mp}\\cdot E[P], & otherwise\n",
    "        \\end{cases} \n",
    "$$\n"
   ]
  },
  {
   "cell_type": "markdown",
   "metadata": {},
   "source": []
  },
  {
   "cell_type": "markdown",
   "metadata": {},
   "source": [
    "### Bayesian net\n",
    "\n",
    "### Joint distribution of Bayesian net"
   ]
  },
  {
   "cell_type": "markdown",
   "metadata": {},
   "source": [
    "$$\n",
    "p(x_1)p(x_2)p(x_3)p(x_4 \\mid x_1, x_2, x_3)p(x_5\\mid x_1, x_3)p(x_6 \\mid x_4)p(x_7  \\mid x_4, x_5)\n",
    "$$"
   ]
  },
  {
   "cell_type": "markdown",
   "metadata": {},
   "source": []
  }
 ],
 "metadata": {
  "kernelspec": {
   "display_name": "Python 3",
   "language": "python",
   "name": "python3"
  },
  "language_info": {
   "codemirror_mode": {
    "name": "ipython",
    "version": 3
   },
   "file_extension": ".py",
   "mimetype": "text/x-python",
   "name": "python",
   "nbconvert_exporter": "python",
   "pygments_lexer": "ipython3",
   "version": "3.6.5"
  }
 },
 "nbformat": 4,
 "nbformat_minor": 2
}
