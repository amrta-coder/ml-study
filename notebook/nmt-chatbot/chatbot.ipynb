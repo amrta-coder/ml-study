{
 "cells": [
  {
   "cell_type": "code",
   "execution_count": 1,
   "metadata": {},
   "outputs": [
    {
     "name": "stderr",
     "output_type": "stream",
     "text": [
      "[nltk_data] Downloading package punkt to /root/nltk_data...\n",
      "[nltk_data]   Package punkt is already up-to-date!\n"
     ]
    }
   ],
   "source": [
    "import nltk\n",
    "\n",
    "dwlr = nltk.downloader.Downloader()\n",
    "\n",
    "for pkg in dwlr.packages():\n",
    "    if pkg.subdir== 'tokenizers':\n",
    "        dwlr.download(pkg.id)"
   ]
  },
  {
   "cell_type": "code",
   "execution_count": 5,
   "metadata": {},
   "outputs": [
    {
     "name": "stdout",
     "output_type": "stream",
     "text": [
      "Cloning into 'dialog_converter'...\n",
      "remote: Enumerating objects: 152, done.\u001b[K\n",
      "remote: Total 152 (delta 0), reused 0 (delta 0), pack-reused 152\u001b[K\n",
      "Receiving objects: 100% (152/152), 15.13 MiB | 6.31 MiB/s, done.\n",
      "Resolving deltas: 100% (80/80), done.\n",
      "/notebook/dialog_converter\n",
      "[nltk_data] Downloading package punkt to /root/nltk_data...\n",
      "[nltk_data]   Package punkt is already up-to-date!\n",
      "130334\n",
      "130334\n",
      "390999\n",
      "390999\n"
     ]
    }
   ],
   "source": [
    "!rm -rf dialog_converter\n",
    "!git clone https://github.com/b0noI/dialog_converter.git\n",
    "%cd dialog_converter\n",
    "!python ./converter.py"
   ]
  },
  {
   "cell_type": "code",
   "execution_count": 7,
   "metadata": {},
   "outputs": [
    {
     "name": "stdout",
     "output_type": "stream",
     "text": [
      "/notebook\n"
     ]
    }
   ],
   "source": [
    "cd .."
   ]
  },
  {
   "cell_type": "code",
   "execution_count": 8,
   "metadata": {},
   "outputs": [
    {
     "name": "stdout",
     "output_type": "stream",
     "text": [
      "chatbot.ipynb  \u001b[0m\u001b[01;34mdialog_converter\u001b[0m/\n"
     ]
    }
   ],
   "source": [
    "ls"
   ]
  },
  {
   "cell_type": "code",
   "execution_count": 11,
   "metadata": {},
   "outputs": [
    {
     "name": "stdout",
     "output_type": "stream",
     "text": [
      "Cloning into 'subword-nmt'...\n",
      "remote: Enumerating objects: 323, done.\u001b[K\n",
      "remote: Total 323 (delta 0), reused 0 (delta 0), pack-reused 323\u001b[K\n",
      "Receiving objects: 100% (323/323), 70.75 KiB | 134.00 KiB/s, done.\n",
      "Resolving deltas: 100% (187/187), done.\n"
     ]
    }
   ],
   "source": [
    "!rm -rf subword-nmt\n",
    "!git clone https://github.com/b0noI/subword-nmt.git"
   ]
  },
  {
   "cell_type": "code",
   "execution_count": 10,
   "metadata": {},
   "outputs": [],
   "source": [
    "!python ./subword-nmt/learn_joint_bpe_and_vocab.py --input ./dialog_converter/train.a ./dialog_converter/train.b -s 50000 -o code.bpe --write-vocabulary vocab.train.bpe.a vocab.train.bpe.b"
   ]
  },
  {
   "cell_type": "code",
   "execution_count": 12,
   "metadata": {},
   "outputs": [
    {
     "name": "stderr",
     "output_type": "stream",
     "text": [
      "UsageError: Line magic function `%sed` not found.\n"
     ]
    }
   ],
   "source": [
    "# Remove the tab from vocabulary \n",
    "%sed -i '/\\t/d' ./vocab.train.bpe.a\n",
    "%sed -i '/\\t/d' ./vocab.train.bpe.b"
   ]
  },
  {
   "cell_type": "code",
   "execution_count": 15,
   "metadata": {},
   "outputs": [
    {
     "ename": "SyntaxError",
     "evalue": "invalid syntax (<ipython-input-15-755d9aceae94>, line 1)",
     "output_type": "error",
     "traceback": [
      "\u001b[0;36m  File \u001b[0;32m\"<ipython-input-15-755d9aceae94>\"\u001b[0;36m, line \u001b[0;32m1\u001b[0m\n\u001b[0;31m    python3 -m ./nmt/nmt/nmt.py \\\u001b[0m\n\u001b[0m                ^\u001b[0m\n\u001b[0;31mSyntaxError\u001b[0m\u001b[0;31m:\u001b[0m invalid syntax\n"
     ]
    }
   ],
   "source": []
  },
  {
   "cell_type": "code",
   "execution_count": 16,
   "metadata": {},
   "outputs": [
    {
     "name": "stdout",
     "output_type": "stream",
     "text": [
      "chatbot.ipynb      \u001b[0m\u001b[01;34mnmt_model\u001b[0m/           test.bpe.a   vocab.train.bpe.a\n",
      "code.bpe           revocab.train.bpe.a  test.bpe.b   vocab.train.bpe.b\n",
      "\u001b[01;34mdialog_converter\u001b[0m/  revocab.train.bpe.b  train.bpe.a\n",
      "\u001b[01;34mnmt\u001b[0m/               \u001b[01;34msubword-nmt\u001b[0m/         train.bpe.b\n"
     ]
    }
   ],
   "source": [
    "ls"
   ]
  },
  {
   "cell_type": "code",
   "execution_count": 17,
   "metadata": {},
   "outputs": [
    {
     "name": "stdout",
     "output_type": "stream",
     "text": [
      "/notebook/nmt\n"
     ]
    }
   ],
   "source": [
    "cd nmt"
   ]
  },
  {
   "cell_type": "code",
   "execution_count": 3,
   "metadata": {},
   "outputs": [
    {
     "ename": "SyntaxError",
     "evalue": "invalid syntax (<ipython-input-3-fb6786008cad>, line 1)",
     "output_type": "error",
     "traceback": [
      "\u001b[0;36m  File \u001b[0;32m\"<ipython-input-3-fb6786008cad>\"\u001b[0;36m, line \u001b[0;32m1\u001b[0m\n\u001b[0;31m    python3 -m nmt.nmt \\\u001b[0m\n\u001b[0m                 ^\u001b[0m\n\u001b[0;31mSyntaxError\u001b[0m\u001b[0;31m:\u001b[0m invalid syntax\n"
     ]
    }
   ],
   "source": [
    "python3 -m nmt.nmt \\\n",
    "    --src=a --tgt=b \\\n",
    "    --vocab_prefix=../nmt_model/revocab.train.bpe \\\n",
    "    --train_prefix=../nmt_model/train.bpe \\\n",
    "    --dev_prefix=../nmt_model/test.bpe \\\n",
    "    --test_prefix=../nmt_model/test.bpe \\\n",
    "    --out_dir=../nmt_model \\\n",
    "    --num_train_steps=12000 \\\n",
    "    --steps_per_stats=100\n",
    "    --num_layers=2 \\\n",
    "    --num_units=128 \\\n",
    "    --batch_size=16 \\\n",
    "    --num_gpus=1 \\\n",
    "    --dropout=0.2 \\\n",
    "    --learning_rate=0.2 \\\n",
    "    --metrics=bleu"
   ]
  },
  {
   "cell_type": "code",
   "execution_count": 2,
   "metadata": {},
   "outputs": [
    {
     "name": "stdout",
     "output_type": "stream",
     "text": [
      "\u001b[0;0mchatbot.ipynb\u001b[m        \u001b[0;0mrevocab.train.bpe.a\u001b[m  \u001b[0;0mtrain.bpe.a\u001b[m\n",
      "\u001b[0;0mcode.bpe\u001b[m             \u001b[0;0mrevocab.train.bpe.b\u001b[m  \u001b[0;0mtrain.bpe.b\u001b[m\n",
      "\u001b[1;34mdialog_converter\u001b[m/    \u001b[1;34msubword-nmt\u001b[m/         \u001b[0;0mvocab.train.bpe.a\u001b[m\n",
      "\u001b[1;34mnmt\u001b[m/                 \u001b[0;0mtest.bpe.a\u001b[m           \u001b[0;0mvocab.train.bpe.b\u001b[m\n",
      "\u001b[1;34mnmt_model\u001b[m/           \u001b[0;0mtest.bpe.b\u001b[m\n"
     ]
    }
   ],
   "source": [
    "ls"
   ]
  },
  {
   "cell_type": "code",
   "execution_count": null,
   "metadata": {},
   "outputs": [
    {
     "name": "stdout",
     "output_type": "stream",
     "text": [
      "/notebook/nmt-chatbot/nmt\n"
     ]
    }
   ],
   "source": [
    "cd nmt"
   ]
  },
  {
   "cell_type": "code",
   "execution_count": 8,
   "metadata": {},
   "outputs": [
    {
     "name": "stdout",
     "output_type": "stream",
     "text": [
      "/opt/conda/bin/python3: No module named nmt.__main__; 'nmt' is a package and cannot be directly executed\n"
     ]
    }
   ],
   "source": [
    "import nmt.nmt as nmt\n",
    "!python3 -m nmt \\\n",
    "    --src=a --tgt=b \\\n",
    "    --vocab_prefix=../nmt_model/revocab.train.bpe \\\n",
    "    --train_prefix=../nmt_model/train.bpe \\\n",
    "    --dev_prefix=../nmt_model/test.bpe \\\n",
    "    --test_prefix=../nmt_model/test.bpe \\\n",
    "    --out_dir=../nmt_model \\\n",
    "    --num_train_steps=12000 \\\n",
    "    --steps_per_stats=100 \\\n",
    "    --num_layers=2 \\\n",
    "    --num_units=128 \\\n",
    "    --batch_size=16 \\\n",
    "    --num_gpus=1 \\\n",
    "    --dropout=0.2 \\\n",
    "    --learning_rate=0.2 \\\n",
    "    --metrics=bleu"
   ]
  },
  {
   "cell_type": "code",
   "execution_count": null,
   "metadata": {},
   "outputs": [],
   "source": []
  }
 ],
 "metadata": {
  "kernelspec": {
   "display_name": "Python 3",
   "language": "python",
   "name": "python3"
  },
  "language_info": {
   "codemirror_mode": {
    "name": "ipython",
    "version": 3
   },
   "file_extension": ".py",
   "mimetype": "text/x-python",
   "name": "python",
   "nbconvert_exporter": "python",
   "pygments_lexer": "ipython3",
   "version": "3.7.3"
  }
 },
 "nbformat": 4,
 "nbformat_minor": 4
}
