{
 "cells": [
  {
   "cell_type": "code",
   "execution_count": 2,
   "metadata": {},
   "outputs": [
    {
     "name": "stdout",
     "output_type": "stream",
     "text": [
      "validate the model date: True\n"
     ]
    },
    {
     "data": {
      "image/png": "[encoded data removed]",
      "text/plain": [
       "<Figure size 432x288 with 1 Axes>"
      ]
     },
     "metadata": {},
     "output_type": "display_data"
    }
   ],
   "source": [
    "import networkx as nx\n",
    "\n",
    "from pgmpy.models import BayesianModel\n",
    "from pgmpy.factors.discrete import TabularCPD\n",
    "\n",
    "import matplotlib.pyplot as plt\n",
    "%matplotlib inline\n",
    "\n",
    "\n",
    "# construct backbone of a simple Bayesian network \n",
    "model = BayesianModel([('D', 'G'), ('I', 'G'), ('G', 'L'), ('I', 'S')])\n",
    "\n",
    "# set the CPD for 'D' and 'I'\n",
    "cpd_d = TabularCPD(variable='D', variable_card=2, values=[[0.6, 0.4]])  # D: course hard(0,1)\n",
    "cpd_i = TabularCPD(variable='I', variable_card=2, values=[[0.7, 0.3]])  # I: student inteligent(0,1)\n",
    "\n",
    "# set CPD for other node（row is index of current node，column is index of parent node）\n",
    "cpd_g = TabularCPD(variable='G', variable_card=3,       # G: examination grade (0,1,2)\n",
    "                   values=[[0.3, 0.05, 0.9,  0.5],\n",
    "                           [0.4, 0.25, 0.08, 0.3],\n",
    "                           [0.3, 0.7,  0.02, 0.2]],\n",
    "                  evidence=['I', 'D'],\n",
    "                  evidence_card=[2, 2])\n",
    "cpd_s = TabularCPD(variable='S', variable_card=2,       # S: SAT grade(0,1)\n",
    "                   values=[[0.95, 0.2],\n",
    "                           [0.05, 0.8]],\n",
    "                   evidence=['I'],\n",
    "                   evidence_card=[2])\n",
    "cpd_l = TabularCPD(variable='L', variable_card=2,       # L: recommand level(0,1)\n",
    "                   values=[[0.1, 0.4, 0.99],\n",
    "                           [0.9, 0.6, 0.01]],\n",
    "                   evidence=['G'],\n",
    "                   evidence_card=[3])\n",
    "\n",
    "# add each CPD into the Bayesian network\n",
    "model.add_cpds(cpd_d, cpd_i, cpd_g, cpd_l, cpd_s)\n",
    "\n",
    "# validate the model date\n",
    "print('validate the model date:',model.check_model())\n",
    "      \n",
    "# draw the Bayesian network\n",
    "nx.draw(model, with_labels=True, node_size=1000, font_weight='bold', node_color='y', \\\n",
    "        pos={\"L\":[4,3],\"G\":[4,5],\"S\":[8,5],\"D\":[2,7],\"I\":[6,7]})\n",
    "plt.text(2,7,model.get_cpds(\"D\"), fontsize=10, color='b')\n",
    "plt.text(5,6,model.get_cpds(\"I\"), fontsize=10, color='b')\n",
    "plt.text(1,4,model.get_cpds(\"G\"), fontsize=10, color='b')\n",
    "plt.text(4.2,2,model.get_cpds(\"L\"), fontsize=10, color='b')\n",
    "plt.text(7,3.4,model.get_cpds(\"S\"), fontsize=10, color='b')\n",
    "plt.title('bayesian network')\n",
    "plt.show()"
   ]
  },
  {
   "cell_type": "code",
   "execution_count": 3,
   "metadata": {},
   "outputs": [
    {
     "data": {
      "text/plain": [
       "(D _|_ I, S)\n",
       "(D _|_ L | G)\n",
       "(D _|_ S | I)\n",
       "(D _|_ I | S)\n",
       "(D _|_ L, S | G, I)\n",
       "(D _|_ L | G, S)\n",
       "(D _|_ S | L, I)\n",
       "(D _|_ S | G, L, I)\n",
       "(D _|_ L | G, I, S)\n",
       "(G _|_ S | I)\n",
       "(G _|_ S | D, I)\n",
       "(G _|_ S | L, I)\n",
       "(G _|_ S | D, L, I)\n",
       "(I _|_ D)\n",
       "(I _|_ L | G)\n",
       "(I _|_ D | S)\n",
       "(I _|_ L | D, G)\n",
       "(I _|_ L | G, S)\n",
       "(I _|_ L | D, G, S)\n",
       "(L _|_ D, I, S | G)\n",
       "(L _|_ S | I)\n",
       "(L _|_ I, S | D, G)\n",
       "(L _|_ S | D, I)\n",
       "(L _|_ D, S | G, I)\n",
       "(L _|_ D, I | G, S)\n",
       "(L _|_ S | D, G, I)\n",
       "(L _|_ I | D, G, S)\n",
       "(L _|_ D | G, I, S)\n",
       "(S _|_ D)\n",
       "(S _|_ L | G)\n",
       "(S _|_ D, G, L | I)\n",
       "(S _|_ L | D, G)\n",
       "(S _|_ G, L | D, I)\n",
       "(S _|_ D, L | G, I)\n",
       "(S _|_ D, G | L, I)\n",
       "(S _|_ L | D, G, I)\n",
       "(S _|_ G | D, L, I)\n",
       "(S _|_ D | G, L, I)"
      ]
     },
     "execution_count": 3,
     "metadata": {},
     "output_type": "execute_result"
    }
   ],
   "source": [
    "# check the independencies\n",
    "model.get_independencies()"
   ]
  },
  {
   "cell_type": "code",
   "execution_count": 4,
   "metadata": {},
   "outputs": [
    {
     "data": {
      "text/plain": [
       "False"
      ]
     },
     "execution_count": 4,
     "metadata": {},
     "output_type": "execute_result"
    }
   ],
   "source": [
    "# Doing some simple queries on the network\n",
    "model.is_active_trail('D', 'I')"
   ]
  },
  {
   "cell_type": "code",
   "execution_count": 5,
   "metadata": {},
   "outputs": [
    {
     "data": {
      "text/plain": [
       "True"
      ]
     },
     "execution_count": 5,
     "metadata": {},
     "output_type": "execute_result"
    }
   ],
   "source": [
    "model.is_active_trail('D', 'I', observed=['G'])"
   ]
  },
  {
   "cell_type": "code",
   "execution_count": 11,
   "metadata": {},
   "outputs": [
    {
     "name": "stdout",
     "output_type": "stream",
     "text": [
      "╒═════╤═════╤══════╤══════╤═════╕\n",
      "│ I   │ I_0 │ I_0  │ I_1  │ I_1 │\n",
      "├─────┼─────┼──────┼──────┼─────┤\n",
      "│ D   │ D_0 │ D_1  │ D_0  │ D_1 │\n",
      "├─────┼─────┼──────┼──────┼─────┤\n",
      "│ G_0 │ 0.3 │ 0.05 │ 0.9  │ 0.5 │\n",
      "├─────┼─────┼──────┼──────┼─────┤\n",
      "│ G_1 │ 0.4 │ 0.25 │ 0.08 │ 0.3 │\n",
      "├─────┼─────┼──────┼──────┼─────┤\n",
      "│ G_2 │ 0.3 │ 0.7  │ 0.02 │ 0.2 │\n",
      "╘═════╧═════╧══════╧══════╧═════╛\n"
     ]
    }
   ],
   "source": [
    "print(model.get_cpds('G'))"
   ]
  },
  {
   "cell_type": "code",
   "execution_count": 5,
   "metadata": {},
   "outputs": [
    {
     "name": "stdout",
     "output_type": "stream",
     "text": [
      "╒═════╤══════════╕\n",
      "│ L   │   phi(L) │\n",
      "╞═════╪══════════╡\n",
      "│ L_0 │   0.4977 │\n",
      "├─────┼──────────┤\n",
      "│ L_1 │   0.5023 │\n",
      "╘═════╧══════════╛\n",
      "╒═════╤══════════╕\n",
      "│ L   │   phi(L) │\n",
      "╞═════╪══════════╡\n",
      "│ L_0 │   0.6114 │\n",
      "├─────┼──────────┤\n",
      "│ L_1 │   0.3886 │\n",
      "╘═════╧══════════╛\n",
      "╒═════╤══════════╕\n",
      "│ L   │   phi(L) │\n",
      "╞═════╪══════════╡\n",
      "│ L_0 │   0.4870 │\n",
      "├─────┼──────────┤\n",
      "│ L_1 │   0.5130 │\n",
      "╘═════╧══════════╛\n"
     ]
    }
   ],
   "source": [
    "# Causal Inference (form above  down)\n",
    "\n",
    "from pgmpy.inference import VariableElimination\n",
    "infer = VariableElimination(model)\n",
    "\n",
    "q = infer.query(variables=['L'], evidence={})\n",
    "print(q['L'])\n",
    "\n",
    "q = infer.query(variables=['L'], evidence={'I':0})\n",
    "print(q['L'])\n",
    "\n",
    "q = infer.query(variables=['L'], evidence={'I':0, 'D':0})\n",
    "print(q['L'])"
   ]
  },
  {
   "cell_type": "code",
   "execution_count": 22,
   "metadata": {},
   "outputs": [
    {
     "name": "stdout",
     "output_type": "stream",
     "text": [
      "╒═════╤══════════╕\n",
      "│ I   │   phi(I) │\n",
      "╞═════╪══════════╡\n",
      "│ I_0 │   0.7000 │\n",
      "├─────┼──────────┤\n",
      "│ I_1 │   0.3000 │\n",
      "╘═════╧══════════╛\n",
      "╒═════╤══════════╕\n",
      "│ I   │   phi(I) │\n",
      "╞═════╪══════════╡\n",
      "│ I_0 │   0.9211 │\n",
      "├─────┼──────────┤\n",
      "│ I_1 │   0.0789 │\n",
      "╘═════╧══════════╛\n",
      "╒═════╤══════════╕\n",
      "│ I   │   phi(I) │\n",
      "╞═════╪══════════╡\n",
      "│ I_0 │   0.8600 │\n",
      "├─────┼──────────┤\n",
      "│ I_1 │   0.1400 │\n",
      "╘═════╧══════════╛\n"
     ]
    }
   ],
   "source": [
    "# Evidence Inference (from down up)\n",
    "\n",
    "q = infer.query(variables=['I'], evidence={})\n",
    "print(q['I'])\n",
    "\n",
    "q = infer.query(variables=['I'], evidence={'G':2})\n",
    "print(q['I'])\n",
    "\n",
    "q = infer.query(variables=['I'], evidence={'L':0})\n",
    "print(q['I'])"
   ]
  }
 ],
 "metadata": {
  "kernelspec": {
   "display_name": "Python 3",
   "language": "python",
   "name": "python3"
  },
  "language_info": {
   "codemirror_mode": {
    "name": "ipython",
    "version": 3
   },
   "file_extension": ".py",
   "mimetype": "text/x-python",
   "name": "python",
   "nbconvert_exporter": "python",
   "pygments_lexer": "ipython3",
   "version": "3.6.5"
  }
 },
 "nbformat": 4,
 "nbformat_minor": 2
}
