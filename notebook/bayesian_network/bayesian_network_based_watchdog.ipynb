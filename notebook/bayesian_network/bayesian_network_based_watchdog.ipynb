{
 "cells": [
  {
   "cell_type": "markdown",
   "metadata": {},
   "source": [
    "# Study packets loss in ad hoc network"
   ]
  },
  {
   "cell_type": "code",
   "execution_count": 7,
   "metadata": {
    "collapsed": true,
    "jupyter": {
     "outputs_hidden": true
    }
   },
   "outputs": [],
   "source": [
    "from pgmpy.models import BayesianModel\n",
    "from pgmpy.factors.discrete import TabularCPD\n",
    "\n",
    "# construct the backbone of Bayesian model\n",
    "model = BayesianModel([('M', 'D'), ('E', 'D')])\n",
    "\n",
    "# Set CPD of the two top nodes M and E\n",
    "\n",
    "# ad hoc packet loss because of mallisiouc behaviour（0：not drop，1: drop）\n",
    "cpd_m = TabularCPD(variable='M', variable_card=2, values=[[0.2, 0.8]])  \n",
    "\n",
    "# ad hoc packet loss because of network environment（0：not loss，1: loss）\n",
    "cpd_e = TabularCPD(variable='E', variable_card=2, values=[[0.9, 0.1]]) \n",
    "\n",
    "\n",
    "# ad hoc node packet loss behaviour being monitored (0：not loss, 1：loss) \n",
    "cpd_d = TabularCPD(variable='D', variable_card=2,\n",
    "                   values=[[0, 0.4, 0.2, 1],\n",
    "                           [1, 0.6, 0.8, 0]],\n",
    "                   evidence=['M', 'E'],\n",
    "                   evidence_card=[2,2])\n",
    "\n",
    "# add CPDs into the bayesian network\n",
    "model.add_cpds(cpd_m, cpd_e, cpd_d)"
   ]
  },
  {
   "cell_type": "code",
   "execution_count": 8,
   "metadata": {},
   "outputs": [
    {
     "data": {
      "text/plain": [
       "(M _|_ E)\n",
       "(E _|_ M)"
      ]
     },
     "execution_count": 8,
     "metadata": {},
     "output_type": "execute_result"
    }
   ],
   "source": [
    "# 查看道德图\n",
    "model.get_independencies()"
   ]
  },
  {
   "cell_type": "code",
   "execution_count": 9,
   "metadata": {},
   "outputs": [
    {
     "name": "stdout",
     "output_type": "stream",
     "text": [
      "验证模型数据的正确性: True\n"
     ]
    }
   ],
   "source": [
    "# 验证模型数据的正确性\n",
    "print(u\"验证模型数据的正确性:\", model.check_model())"
   ]
  },
  {
   "cell_type": "code",
   "execution_count": 10,
   "metadata": {},
   "outputs": [
    {
     "data": {
      "image/png": "[encoded data removed]",
      "text/plain": [
       "<Figure size 432x288 with 1 Axes>"
      ]
     },
     "metadata": {},
     "output_type": "display_data"
    }
   ],
   "source": [
    "import networkx as nx\n",
    "import matplotlib.pyplot as plt\n",
    "%matplotlib inline\n",
    "\n",
    "# 绘制贝叶斯图(节点+依赖关系)\n",
    "nx.draw(model, with_labels=True, node_size=2000, font_weight='bold', node_color='y', \\\n",
    "        pos={\"D\":[4,5],\"M\":[2,7],\"E\":[6,7]})\n",
    "plt.text(0.5,7,model.get_cpds(\"M\"), fontsize=10, color='b')\n",
    "plt.text(6.5,7,model.get_cpds(\"E\"), fontsize=10, color='b')\n",
    "plt.text(1,4,model.get_cpds(\"D\"), fontsize=10, color='b')\n",
    "plt.title(\"Bayesian network of watchdog\")\n",
    "plt.show()"
   ]
  },
  {
   "cell_type": "code",
   "execution_count": 11,
   "metadata": {},
   "outputs": [
    {
     "name": "stdout",
     "output_type": "stream",
     "text": [
      "╒═════╤══════════╕\n",
      "│ M   │   phi(M) │\n",
      "╞═════╪══════════╡\n",
      "│ M_0 │   0.2000 │\n",
      "├─────┼──────────┤\n",
      "│ M_1 │   0.8000 │\n",
      "╘═════╧══════════╛\n",
      "╒═════╤══════════╕\n",
      "│ E   │   phi(E) │\n",
      "╞═════╪══════════╡\n",
      "│ E_0 │   0.9000 │\n",
      "├─────┼──────────┤\n",
      "│ E_1 │   0.1000 │\n",
      "╘═════╧══════════╛\n",
      "╒═════╤══════════╕\n",
      "│ D   │   phi(D) │\n",
      "╞═════╪══════════╡\n",
      "│ D_0 │   0.2320 │\n",
      "├─────┼──────────┤\n",
      "│ D_1 │   0.7680 │\n",
      "╘═════╧══════════╛\n"
     ]
    }
   ],
   "source": [
    "from pgmpy.inference import VariableElimination\n",
    "infer = VariableElimination(model)\n",
    "\n",
    "# 因果推理/预测\n",
    "\n",
    "# M的先验概率\n",
    "q = infer.query(variables=['M'], evidence={})\n",
    "print(q['M'])\n",
    "\n",
    "# E的先验概率\n",
    "q = infer.query(variables=['E'], evidence={})\n",
    "print(q['E'])\n",
    "\n",
    "# M的先验概率\n",
    "q = infer.query(variables=['D'], evidence={})\n",
    "print(q['D'])"
   ]
  },
  {
   "cell_type": "code",
   "execution_count": 12,
   "metadata": {},
   "outputs": [
    {
     "name": "stdout",
     "output_type": "stream",
     "text": [
      "╒═════╤══════════╕\n",
      "│ M   │   phi(M) │\n",
      "╞═════╪══════════╡\n",
      "│ M_0 │   0.2381 │\n",
      "├─────┼──────────┤\n",
      "│ M_1 │   0.7619 │\n",
      "╘═════╧══════════╛\n",
      "╒═════╤══════════╕\n",
      "│ M   │   phi(M) │\n",
      "╞═════╪══════════╡\n",
      "│ M_0 │   1.0000 │\n",
      "├─────┼──────────┤\n",
      "│ M_1 │   0.0000 │\n",
      "╘═════╧══════════╛\n"
     ]
    }
   ],
   "source": [
    "# 证据推论/解释\n",
    "\n",
    "q = infer.query(variables=['M'], evidence={'D': 1, 'E': 0})\n",
    "print(q['M'])\n",
    "\n",
    "\n",
    "q = infer.query(variables=['M'], evidence={'D': 1, 'E': 1})\n",
    "print(q['M'])"
   ]
  }
 ],
 "metadata": {
  "kernelspec": {
   "display_name": "Python 3",
   "language": "python",
   "name": "python3"
  },
  "language_info": {
   "codemirror_mode": {
    "name": "ipython",
    "version": 3
   },
   "file_extension": ".py",
   "mimetype": "text/x-python",
   "name": "python",
   "nbconvert_exporter": "python",
   "pygments_lexer": "ipython3",
   "version": "3.7.3"
  }
 },
 "nbformat": 4,
 "nbformat_minor": 4
}
