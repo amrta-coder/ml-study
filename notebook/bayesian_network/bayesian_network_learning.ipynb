{
 "cells": [
  {
   "cell_type": "markdown",
   "metadata": {
    "slideshow": {
     "slide_type": "-"
    }
   },
   "source": [
    "# Bayesian network learning（pgmpy example）\n",
    "### parameter learning"
   ]
  },
  {
   "cell_type": "code",
   "execution_count": 16,
   "metadata": {
    "scrolled": true
   },
   "outputs": [
    {
     "name": "stdout",
     "output_type": "stream",
     "text": [
      "     fruit tasty   size\n",
      "0   banana   yes  large\n",
      "1    apple    no  large\n",
      "2   banana   yes  large\n",
      "3    apple   yes  small\n",
      "4   banana   yes  large\n",
      "5    apple   yes  large\n",
      "6   banana   yes  large\n",
      "7    apple   yes  small\n",
      "8    apple   yes  large\n",
      "9    apple   yes  large\n",
      "10  banana   yes  large\n",
      "11  banana    no  large\n",
      "12   apple    no  small\n",
      "13  banana    no  small\n"
     ]
    }
   ],
   "source": [
    "import pandas as pd\n",
    "data = pd.DataFrame(data={'fruit': [\"banana\", \"apple\", \"banana\", \"apple\", \"banana\",\"apple\", \"banana\", \n",
    "                                    \"apple\", \"apple\", \"apple\", \"banana\", \"banana\", \"apple\", \"banana\",], \n",
    "                          'tasty': [\"yes\", \"no\", \"yes\", \"yes\", \"yes\", \"yes\", \"yes\", \n",
    "                                    \"yes\", \"yes\", \"yes\", \"yes\", \"no\", \"no\", \"no\"], \n",
    "                          'size': [\"large\", \"large\", \"large\", \"small\", \"large\", \"large\", \"large\",\n",
    "                                    \"small\", \"large\", \"large\", \"large\", \"large\", \"small\", \"small\"]})\n",
    "print(data)"
   ]
  },
  {
   "cell_type": "markdown",
   "metadata": {},
   "source": [
    "### Construct bayesian network model"
   ]
  },
  {
   "cell_type": "code",
   "execution_count": 17,
   "metadata": {
    "collapsed": true,
    "jupyter": {
     "outputs_hidden": true
    }
   },
   "outputs": [],
   "source": [
    "from pgmpy.models import BayesianModel\n",
    "\n",
    "model = BayesianModel([('fruit', 'tasty'), ('size', 'tasty')])  # fruit -> tasty <- size"
   ]
  },
  {
   "cell_type": "markdown",
   "metadata": {},
   "source": [
    "### State counts"
   ]
  },
  {
   "cell_type": "code",
   "execution_count": 18,
   "metadata": {},
   "outputs": [
    {
     "name": "stdout",
     "output_type": "stream",
     "text": [
      "\n",
      "         fruit\n",
      "apple       7\n",
      "banana      7\n",
      "\n",
      " fruit apple       banana      \n",
      "size  large small  large small\n",
      "tasty                         \n",
      "no      1.0   1.0    1.0   1.0\n",
      "yes     3.0   2.0    5.0   0.0\n"
     ]
    }
   ],
   "source": [
    "from pgmpy.estimators import ParameterEstimator\n",
    "pe = ParameterEstimator(model, data)\n",
    "print(\"\\n\", pe.state_counts('fruit'))  # unconditional \n",
    "print(\"\\n\", pe.state_counts('tasty'))  # conditional on fruit and size"
   ]
  },
  {
   "cell_type": "markdown",
   "metadata": {},
   "source": [
    "### Maximum likelihood estimation"
   ]
  },
  {
   "cell_type": "code",
   "execution_count": 19,
   "metadata": {},
   "outputs": [
    {
     "name": "stdout",
     "output_type": "stream",
     "text": [
      "╒═══════════════╤═════╕\n",
      "│ fruit(apple)  │ 0.5 │\n",
      "├───────────────┼─────┤\n",
      "│ fruit(banana) │ 0.5 │\n",
      "╘═══════════════╧═════╛\n",
      "╒════════════╤══════════════╤════════════════════╤═════════════════════╤═══════════════╕\n",
      "│ fruit      │ fruit(apple) │ fruit(apple)       │ fruit(banana)       │ fruit(banana) │\n",
      "├────────────┼──────────────┼────────────────────┼─────────────────────┼───────────────┤\n",
      "│ size       │ size(large)  │ size(small)        │ size(large)         │ size(small)   │\n",
      "├────────────┼──────────────┼────────────────────┼─────────────────────┼───────────────┤\n",
      "│ tasty(no)  │ 0.25         │ 0.3333333333333333 │ 0.16666666666666666 │ 1.0           │\n",
      "├────────────┼──────────────┼────────────────────┼─────────────────────┼───────────────┤\n",
      "│ tasty(yes) │ 0.75         │ 0.6666666666666666 │ 0.8333333333333334  │ 0.0           │\n",
      "╘════════════╧══════════════╧════════════════════╧═════════════════════╧═══════════════╛\n"
     ]
    }
   ],
   "source": [
    "from pgmpy.estimators import MaximumLikelihoodEstimator\n",
    "mle = MaximumLikelihoodEstimator(model, data)\n",
    "print(mle.estimate_cpd('fruit'))  # unconditional probability\n",
    "print(mle.estimate_cpd('tasty'))  # conditional probability"
   ]
  },
  {
   "cell_type": "code",
   "execution_count": 20,
   "metadata": {
    "collapsed": true,
    "jupyter": {
     "outputs_hidden": true
    }
   },
   "outputs": [],
   "source": [
    "# Calibrate all CPDs of `model` using MLE\n",
    "model.fit(data, estimator=MaximumLikelihoodEstimator)"
   ]
  },
  {
   "cell_type": "markdown",
   "metadata": {},
   "source": [
    "### draw the bayesian network"
   ]
  },
  {
   "cell_type": "code",
   "execution_count": 21,
   "metadata": {},
   "outputs": [
    {
     "data": {
      "image/png": "[encoded data removed]",
      "text/plain": [
       "<Figure size 432x288 with 1 Axes>"
      ]
     },
     "metadata": {},
     "output_type": "display_data"
    }
   ],
   "source": [
    "import networkx as nx\n",
    "import matplotlib.pyplot as plt\n",
    "%matplotlib inline\n",
    "\n",
    "# draw the bayesian netowrk (node+dependencies)\n",
    "nx.draw(model, with_labels=True, node_size=2000, font_weight='bold', node_color='y', \\\n",
    "        pos={\"tasty\":[4,5],\"fruit\":[2,7],\"size\":[6,7]})\n",
    "plt.text(0,7,model.get_cpds(\"fruit\"), fontsize=10, color='b')\n",
    "plt.text(6.5,7,model.get_cpds(\"size\"), fontsize=10, color='b')\n",
    "plt.text(1,3.5,model.get_cpds(\"tasty\"), fontsize=10, color='b')\n",
    "plt.title(\"Bayesian network of fruit model\")\n",
    "plt.show()"
   ]
  },
  {
   "cell_type": "markdown",
   "metadata": {},
   "source": [
    "### parameter estimate（prior is BDeu）"
   ]
  },
  {
   "cell_type": "code",
   "execution_count": 22,
   "metadata": {},
   "outputs": [
    {
     "name": "stdout",
     "output_type": "stream",
     "text": [
      "╒════════════╤═════════════════════╤════════════════════╤════════════════════╤═════════════════════╕\n",
      "│ fruit      │ fruit(apple)        │ fruit(apple)       │ fruit(banana)      │ fruit(banana)       │\n",
      "├────────────┼─────────────────────┼────────────────────┼────────────────────┼─────────────────────┤\n",
      "│ size       │ size(large)         │ size(small)        │ size(large)        │ size(small)         │\n",
      "├────────────┼─────────────────────┼────────────────────┼────────────────────┼─────────────────────┤\n",
      "│ tasty(no)  │ 0.34615384615384615 │ 0.4090909090909091 │ 0.2647058823529412 │ 0.6428571428571429  │\n",
      "├────────────┼─────────────────────┼────────────────────┼────────────────────┼─────────────────────┤\n",
      "│ tasty(yes) │ 0.6538461538461539  │ 0.5909090909090909 │ 0.7352941176470589 │ 0.35714285714285715 │\n",
      "╘════════════╧═════════════════════╧════════════════════╧════════════════════╧═════════════════════╛\n"
     ]
    }
   ],
   "source": [
    "from pgmpy.estimators import BayesianEstimator\n",
    "est = BayesianEstimator(model, data)\n",
    "\n",
    "print(est.estimate_cpd('tasty', prior_type='BDeu', equivalent_sample_size=10))"
   ]
  },
  {
   "cell_type": "code",
   "execution_count": 23,
   "metadata": {},
   "outputs": [
    {
     "name": "stdout",
     "output_type": "stream",
     "text": [
      "╒══════╤══════════╕\n",
      "│ A(0) │ 0.490809 │\n",
      "├──────┼──────────┤\n",
      "│ A(1) │ 0.509191 │\n",
      "╘══════╧══════════╛\n",
      "╒══════╤══════╤══════╕\n",
      "│ A    │ A(0) │ A(1) │\n",
      "├──────┼──────┼──────┤\n",
      "│ B(0) │ 0.5  │ 0.5  │\n",
      "├──────┼──────┼──────┤\n",
      "│ B(1) │ 0.5  │ 0.5  │\n",
      "╘══════╧══════╧══════╛\n",
      "╒══════╤════════════════════╤════════════════════╤═════════════════════╤═════════════════════╕\n",
      "│ A    │ A(0)               │ A(0)               │ A(1)                │ A(1)                │\n",
      "├──────┼────────────────────┼────────────────────┼─────────────────────┼─────────────────────┤\n",
      "│ D    │ D(0)               │ D(1)               │ D(0)                │ D(1)                │\n",
      "├──────┼────────────────────┼────────────────────┼─────────────────────┼─────────────────────┤\n",
      "│ C(0) │ 0.4934385892966988 │ 0.5145483936148717 │ 0.49489094124582433 │ 0.504309500489716   │\n",
      "├──────┼────────────────────┼────────────────────┼─────────────────────┼─────────────────────┤\n",
      "│ C(1) │ 0.5065614107033012 │ 0.4854516063851283 │ 0.5051090587541757  │ 0.49569049951028404 │\n",
      "╘══════╧════════════════════╧════════════════════╧═════════════════════╧═════════════════════╛\n",
      "╒══════╤══════╤══════╕\n",
      "│ B    │ B(0) │ B(1) │\n",
      "├──────┼──────┼──────┤\n",
      "│ D(0) │ 0.5  │ 0.5  │\n",
      "├──────┼──────┼──────┤\n",
      "│ D(1) │ 0.5  │ 0.5  │\n",
      "╘══════╧══════╧══════╛\n"
     ]
    }
   ],
   "source": [
    "import numpy as np\n",
    "import pandas as pd\n",
    "from pgmpy.models import BayesianModel\n",
    "from pgmpy.estimators import BayesianEstimator\n",
    "\n",
    "# generate data set and bayesian network\n",
    "data = pd.DataFrame(np.random.randint(low=0, high=2, size=(5000, 4)), columns=['A', 'B', 'C', 'D'])\n",
    "model = BayesianModel([('A', 'B'), ('A', 'C'), ('D', 'C'), ('B', 'D')])\n",
    "\n",
    "model.fit(data, estimator=BayesianEstimator, prior_type=\"BDeu\") # default equivalent_sample_size=5\n",
    "for cpd in model.get_cpds():\n",
    "    print((cpd))"
   ]
  },
  {
   "cell_type": "code",
   "execution_count": 24,
   "metadata": {},
   "outputs": [
    {
     "data": {
      "text/plain": [
       "(A _|_ D | B)\n",
       "(B _|_ C | A, D)\n",
       "(C _|_ B | A, D)\n",
       "(D _|_ A | B)"
      ]
     },
     "execution_count": 24,
     "metadata": {},
     "output_type": "execute_result"
    }
   ],
   "source": [
    "#检查道德图\n",
    "model.get_independencies()"
   ]
  },
  {
   "cell_type": "markdown",
   "metadata": {},
   "source": [
    "### draw the bayesian network"
   ]
  },
  {
   "cell_type": "code",
   "execution_count": 75,
   "metadata": {},
   "outputs": [
    {
     "data": {
      "image/png": "[encoded data removed]",
      "text/plain": [
       "<Figure size 432x288 with 1 Axes>"
      ]
     },
     "metadata": {},
     "output_type": "display_data"
    }
   ],
   "source": [
    "import networkx as nx\n",
    "import matplotlib.pyplot as plt\n",
    "%matplotlib inline\n",
    "\n",
    "# draw the bayesian netowrk (node+dependencies)\n",
    "nx.draw(model, with_labels=True, node_size=2000, font_weight='bold', node_color='y', \\\n",
    "        pos={\"A\":[8,18],\"B\":[8,7],\"C\":[4.5,0], \"D\":[10,2]})\n",
    "plt.text(8,12,model.get_cpds(\"A\"), fontsize=10, color='b')\n",
    "plt.text(10,5,model.get_cpds(\"B\"), fontsize=10, color='b')\n",
    "plt.text(1,-12,model.get_cpds(\"C\"), fontsize=10, color='b')\n",
    "plt.text(11,-3,model.get_cpds(\"D\"), fontsize=10, color='b')\n",
    "plt.title(\"Bayesian network of fruit model\")\n",
    "plt.show()"
   ]
  },
  {
   "cell_type": "code",
   "execution_count": 67,
   "metadata": {},
   "outputs": [
    {
     "name": "stdout",
     "output_type": "stream",
     "text": [
      "      A  B  C  D\n",
      "0     1  0  1  1\n",
      "1     0  0  0  1\n",
      "2     1  0  1  0\n",
      "3     1  1  0  0\n",
      "4     1  1  1  1\n",
      "5     0  1  0  0\n",
      "6     0  0  1  1\n",
      "7     1  1  0  0\n",
      "8     0  1  0  0\n",
      "9     0  1  0  0\n",
      "10    1  0  0  1\n",
      "11    1  1  1  0\n",
      "12    1  0  1  0\n",
      "13    1  1  1  0\n",
      "14    1  1  1  1\n",
      "15    0  0  0  0\n",
      "16    0  1  1  0\n",
      "17    1  0  0  0\n",
      "18    1  0  0  0\n",
      "19    0  0  0  0\n",
      "20    0  0  1  0\n",
      "21    1  1  1  0\n",
      "22    0  1  0  0\n",
      "23    1  1  1  0\n",
      "24    0  1  1  1\n",
      "25    1  1  1  0\n",
      "26    0  1  1  0\n",
      "27    1  1  1  0\n",
      "28    0  1  0  0\n",
      "29    0  0  0  1\n",
      "...  .. .. .. ..\n",
      "4970  0  1  1  1\n",
      "4971  0  0  0  1\n",
      "4972  1  1  0  0\n",
      "4973  1  0  0  1\n",
      "4974  0  0  1  0\n",
      "4975  0  0  1  1\n",
      "4976  1  0  0  1\n",
      "4977  1  1  1  1\n",
      "4978  0  1  1  0\n",
      "4979  0  0  1  1\n",
      "4980  0  1  0  1\n",
      "4981  0  1  1  0\n",
      "4982  0  1  0  0\n",
      "4983  0  1  0  0\n",
      "4984  0  0  1  1\n",
      "4985  1  0  1  0\n",
      "4986  1  1  0  1\n",
      "4987  1  1  1  1\n",
      "4988  0  1  0  0\n",
      "4989  0  0  1  0\n",
      "4990  0  1  1  1\n",
      "4991  1  0  1  1\n",
      "4992  1  0  0  0\n",
      "4993  1  1  0  1\n",
      "4994  0  1  0  0\n",
      "4995  0  0  1  1\n",
      "4996  0  1  1  0\n",
      "4997  1  1  1  0\n",
      "4998  1  1  1  1\n",
      "4999  0  0  1  1\n",
      "\n",
      "[5000 rows x 4 columns]\n"
     ]
    }
   ],
   "source": [
    "print(data)"
   ]
  },
  {
   "cell_type": "code",
   "execution_count": 72,
   "metadata": {},
   "outputs": [
    {
     "name": "stdout",
     "output_type": "stream",
     "text": [
      "      A  B  C  D  E\n",
      "0     0  1  0  1  0\n",
      "1     1  1  0  1  1\n",
      "2     1  0  1  0  1\n",
      "3     0  1  0  0  1\n",
      "4     0  0  0  0  1\n",
      "5     0  0  0  1  0\n",
      "6     1  0  0  0  0\n",
      "7     0  0  0  1  0\n",
      "8     1  0  1  1  1\n",
      "9     1  0  1  0  0\n",
      "10    0  0  1  0  0\n",
      "11    1  0  1  0  1\n",
      "12    0  1  0  0  1\n",
      "13    1  0  0  0  1\n",
      "14    1  0  0  1  1\n",
      "15    0  0  1  0  1\n",
      "16    0  1  0  1  1\n",
      "17    1  0  1  1  1\n",
      "18    0  0  1  1  0\n",
      "19    1  0  0  1  1\n",
      "20    1  1  0  1  0\n",
      "21    1  0  0  0  1\n",
      "22    0  1  0  0  1\n",
      "23    1  1  1  0  0\n",
      "24    1  0  1  0  1\n",
      "25    0  0  1  1  1\n",
      "26    0  0  1  1  1\n",
      "27    1  0  0  1  1\n",
      "28    0  0  1  0  0\n",
      "29    1  1  0  0  1\n",
      "...  .. .. .. .. ..\n",
      "4970  0  0  1  0  0\n",
      "4971  1  0  0  0  1\n",
      "4972  1  0  1  1  1\n",
      "4973  1  0  0  0  1\n",
      "4974  1  1  0  1  1\n",
      "4975  0  0  1  0  0\n",
      "4976  0  0  0  1  1\n",
      "4977  1  1  1  0  1\n",
      "4978  0  1  0  1  0\n",
      "4979  1  0  1  1  0\n",
      "4980  0  1  1  1  0\n",
      "4981  0  1  0  0  0\n",
      "4982  1  0  0  1  1\n",
      "4983  1  0  1  0  1\n",
      "4984  1  1  1  0  0\n",
      "4985  1  1  1  1  1\n",
      "4986  1  1  1  1  0\n",
      "4987  0  1  1  0  0\n",
      "4988  1  0  1  1  0\n",
      "4989  0  0  0  1  0\n",
      "4990  1  0  0  0  1\n",
      "4991  0  1  1  0  0\n",
      "4992  1  0  1  1  1\n",
      "4993  1  1  1  1  1\n",
      "4994  1  0  1  1  1\n",
      "4995  1  0  1  1  0\n",
      "4996  0  1  1  1  0\n",
      "4997  0  1  1  0  1\n",
      "4998  0  0  1  1  0\n",
      "4999  1  0  1  0  0\n",
      "\n",
      "[5000 rows x 5 columns]\n"
     ]
    }
   ],
   "source": [
    "import pandas as pd\n",
    "import numpy as np\n",
    "from pgmpy.estimators import ConstraintBasedEstimator\n",
    "\n",
    "data = pd.DataFrame(np.random.randint(0, 2, size=(5000, 5)), columns=list('ABCDE'))\n",
    "\n",
    "print(data)"
   ]
  },
  {
   "cell_type": "code",
   "execution_count": null,
   "metadata": {},
   "outputs": [],
   "source": []
  }
 ],
 "metadata": {
  "kernelspec": {
   "display_name": "Python 3",
   "language": "python",
   "name": "python3"
  },
  "language_info": {
   "codemirror_mode": {
    "name": "ipython",
    "version": 3
   },
   "file_extension": ".py",
   "mimetype": "text/x-python",
   "name": "python",
   "nbconvert_exporter": "python",
   "pygments_lexer": "ipython3",
   "version": "3.7.3"
  }
 },
 "nbformat": 4,
 "nbformat_minor": 4
}
